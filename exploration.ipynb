{
 "cells": [
  {
   "cell_type": "markdown",
   "metadata": {},
   "source": [
    "# Building a supervised model for tags prediction"
   ]
  },
  {
   "cell_type": "markdown",
   "metadata": {},
   "source": [
    "## Importing required libraries"
   ]
  },
  {
   "cell_type": "code",
   "execution_count": 26,
   "metadata": {},
   "outputs": [],
   "source": [
    "import pandas as pd\n",
    "import matplotlib.pyplot as plt\n",
    "import numpy as np\n",
    "import seaborn as sns\n",
    "import nltk\n",
    "import joblib\n",
    "from scipy.sparse import hstack\n",
    "from sklearn.model_selection import train_test_split\n",
    "\n",
    "pd.options.display.max_colwidth = 255\n",
    "sns.set(style=\"darkgrid\")"
   ]
  },
  {
   "cell_type": "markdown",
   "metadata": {},
   "source": [
    "## EDA"
   ]
  },
  {
   "cell_type": "code",
   "execution_count": 27,
   "metadata": {},
   "outputs": [],
   "source": [
    "# Run this cell if your data contains questions in one column and list of tags associated with each question in another column.\n",
    "import ast\n",
    "\n",
    "df = pd.read_csv('merged_data.csv')\n",
    "def clean_and_convert(tag_string):\n",
    "    try:\n",
    "        # Remove the outer double quotes\n",
    "        tag_string = tag_string.strip('\"')\n",
    "        # Evaluate the string to a list\n",
    "        return ast.literal_eval(tag_string)\n",
    "    except (ValueError, SyntaxError):\n",
    "        return []\n",
    "\n",
    "# Apply the conversion to the 'Tags' column\n",
    "df['Tags'] = df['Tags'].apply(clean_and_convert)\n",
    "df['id'] = df.index\n",
    "questions_df = df[['id', 'Title']]\n",
    "Tags_list = []\n",
    "for index, tags in  enumerate(df['Tags']):\n",
    "    for tag in tags:    \n",
    "        Tags_list.append({'id':index, 'tag':tag})\n",
    "tags_df = pd.DataFrame(Tags_list)\n"
   ]
  },
  {
   "cell_type": "code",
   "execution_count": 28,
   "metadata": {},
   "outputs": [],
   "source": [
    "# questions_df = pd.read_csv('questions.csv')\n",
    "# tags_df = pd.read_csv('tags.csv')"
   ]
  },
  {
   "cell_type": "code",
   "execution_count": 29,
   "metadata": {},
   "outputs": [
    {
     "name": "stdout",
     "output_type": "stream",
     "text": [
      "Number of questions: 129448\n"
     ]
    }
   ],
   "source": [
    "print(f\"Number of questions: {questions_df.shape[0]}\")"
   ]
  },
  {
   "cell_type": "code",
   "execution_count": 30,
   "metadata": {},
   "outputs": [
    {
     "name": "stdout",
     "output_type": "stream",
     "text": [
      "   id                                                                                    Title\n",
      "0   0          write/read to/from json a python dict that has a polars DF for one or more keys\n",
      "1   1                    Python: How to remove brackets and single-quotes from csvreader list?\n",
      "2   2  Multi-line input in Python with support of empty lines and check of \"\\n\" in the console\n",
      "3   3                                                           Streamlit - Text color in Menu\n",
      "4   4                                             NoneType is not subscriptable in linked list\n"
     ]
    }
   ],
   "source": [
    "print(questions_df.head().to_string())"
   ]
  },
  {
   "cell_type": "code",
   "execution_count": 31,
   "metadata": {},
   "outputs": [
    {
     "data": {
      "text/html": [
       "<div>\n",
       "<style scoped>\n",
       "    .dataframe tbody tr th:only-of-type {\n",
       "        vertical-align: middle;\n",
       "    }\n",
       "\n",
       "    .dataframe tbody tr th {\n",
       "        vertical-align: top;\n",
       "    }\n",
       "\n",
       "    .dataframe thead th {\n",
       "        text-align: right;\n",
       "    }\n",
       "</style>\n",
       "<table border=\"1\" class=\"dataframe\">\n",
       "  <thead>\n",
       "    <tr style=\"text-align: right;\">\n",
       "      <th></th>\n",
       "      <th>id</th>\n",
       "      <th>tag</th>\n",
       "    </tr>\n",
       "  </thead>\n",
       "  <tbody>\n",
       "    <tr>\n",
       "      <th>0</th>\n",
       "      <td>0</td>\n",
       "      <td>json</td>\n",
       "    </tr>\n",
       "    <tr>\n",
       "      <th>1</th>\n",
       "      <td>0</td>\n",
       "      <td>python-polars</td>\n",
       "    </tr>\n",
       "    <tr>\n",
       "      <th>2</th>\n",
       "      <td>1</td>\n",
       "      <td>python</td>\n",
       "    </tr>\n",
       "    <tr>\n",
       "      <th>3</th>\n",
       "      <td>2</td>\n",
       "      <td>python</td>\n",
       "    </tr>\n",
       "    <tr>\n",
       "      <th>4</th>\n",
       "      <td>2</td>\n",
       "      <td>string</td>\n",
       "    </tr>\n",
       "  </tbody>\n",
       "</table>\n",
       "</div>"
      ],
      "text/plain": [
       "   id            tag\n",
       "0   0           json\n",
       "1   0  python-polars\n",
       "2   1         python\n",
       "3   2         python\n",
       "4   2         string"
      ]
     },
     "execution_count": 31,
     "metadata": {},
     "output_type": "execute_result"
    }
   ],
   "source": [
    "tags_df.head()"
   ]
  },
  {
   "cell_type": "code",
   "execution_count": 32,
   "metadata": {},
   "outputs": [
    {
     "data": {
      "text/plain": [
       "12656"
      ]
     },
     "execution_count": 32,
     "metadata": {},
     "output_type": "execute_result"
    }
   ],
   "source": [
    "tags_df['tag'].nunique()"
   ]
  },
  {
   "cell_type": "markdown",
   "metadata": {},
   "source": [
    "### Top 10 tags"
   ]
  },
  {
   "cell_type": "code",
   "execution_count": 33,
   "metadata": {},
   "outputs": [],
   "source": [
    "tag_counts = tags_df['tag'].value_counts()\n",
    "top_ten_tags = tag_counts.head(10)"
   ]
  },
  {
   "cell_type": "code",
   "execution_count": 34,
   "metadata": {},
   "outputs": [
    {
     "name": "stdout",
     "output_type": "stream",
     "text": [
      "tag\n",
      "python             57854\n",
      "algorithm          51909\n",
      "data-structures    34052\n",
      "java               11298\n",
      "c++                 9245\n",
      "python-3.x          7224\n",
      "arrays              6580\n",
      "javascript          6171\n",
      "c                   5390\n",
      "pandas              4555\n",
      "Name: count, dtype: int64\n"
     ]
    }
   ],
   "source": [
    "print(top_ten_tags)"
   ]
  },
  {
   "cell_type": "markdown",
   "metadata": {},
   "source": [
    "### Plotting top 10 tags"
   ]
  },
  {
   "cell_type": "code",
   "execution_count": 35,
   "metadata": {},
   "outputs": [
    {
     "name": "stderr",
     "output_type": "stream",
     "text": [
      "C:\\Users\\naren\\AppData\\Local\\Temp\\ipykernel_22404\\1142611014.py:1: FutureWarning: \n",
      "\n",
      "Passing `palette` without assigning `hue` is deprecated and will be removed in v0.14.0. Assign the `x` variable to `hue` and set `legend=False` for the same effect.\n",
      "\n",
      "  sns.barplot(x = top_ten_tags.index, y = top_ten_tags.values,palette='viridis')\n"
     ]
    },
    {
     "data": {
      "text/plain": [
       "([0, 1, 2, 3, 4, 5, 6, 7, 8, 9],\n",
       " [Text(0, 0, 'python'),\n",
       "  Text(1, 0, 'algorithm'),\n",
       "  Text(2, 0, 'data-structures'),\n",
       "  Text(3, 0, 'java'),\n",
       "  Text(4, 0, 'c++'),\n",
       "  Text(5, 0, 'python-3.x'),\n",
       "  Text(6, 0, 'arrays'),\n",
       "  Text(7, 0, 'javascript'),\n",
       "  Text(8, 0, 'c'),\n",
       "  Text(9, 0, 'pandas')])"
      ]
     },
     "execution_count": 35,
     "metadata": {},
     "output_type": "execute_result"
    },
    {
     "data": {
      "image/png": "[encoded data removed]",
      "text/plain": [
       "<Figure size 640x480 with 1 Axes>"
      ]
     },
     "metadata": {},
     "output_type": "display_data"
    }
   ],
   "source": [
    "sns.barplot(x = top_ten_tags.index, y = top_ten_tags.values,palette='viridis')\n",
    "plt.xticks(rotation = 45)"
   ]
  },
  {
   "cell_type": "markdown",
   "metadata": {},
   "source": [
    "### Plotting top 50 tags"
   ]
  },
  {
   "cell_type": "code",
   "execution_count": 36,
   "metadata": {},
   "outputs": [
    {
     "name": "stdout",
     "output_type": "stream",
     "text": [
      "tag\n",
      "python                 57854\n",
      "algorithm              51909\n",
      "data-structures        34052\n",
      "java                   11298\n",
      "c++                     9245\n",
      "python-3.x              7224\n",
      "arrays                  6580\n",
      "javascript              6171\n",
      "c                       5390\n",
      "pandas                  4555\n",
      "sorting                 4414\n",
      "c#                      3200\n",
      "time-complexity         3159\n",
      "recursion               2877\n",
      "linked-list             2866\n",
      "tree                    2764\n",
      "graph                   2590\n",
      "math                    2496\n",
      "django                  2442\n",
      "list                    2261\n",
      "dataframe               2207\n",
      "numpy                   2105\n",
      "string                  1944\n",
      "performance             1895\n",
      "optimization            1882\n",
      "dynamic-programming     1744\n",
      "big-o                   1728\n",
      "dictionary              1573\n",
      "binary-tree             1524\n",
      "binary-search-tree      1451\n",
      "matplotlib              1374\n",
      "machine-learning        1372\n",
      "selenium-webdriver      1356\n",
      "flask                   1328\n",
      "tkinter                 1206\n",
      "graph-theory            1175\n",
      "database                1155\n",
      "graph-algorithm         1124\n",
      "search                  1105\n",
      "pytorch                 1068\n",
      "algorithmic-trading     1048\n",
      "json                    1003\n",
      "tensorflow              1000\n",
      "matrix                   964\n",
      "hash                     949\n",
      "stack                    935\n",
      "r                        915\n",
      "opencv                   883\n",
      "php                      880\n",
      "genetic-algorithm        867\n",
      "Name: count, dtype: int64\n"
     ]
    }
   ],
   "source": [
    "top_fifty_tags = tag_counts.head(50)\n",
    "print(top_fifty_tags)"
   ]
  },
  {
   "cell_type": "code",
   "execution_count": 37,
   "metadata": {},
   "outputs": [
    {
     "name": "stderr",
     "output_type": "stream",
     "text": [
      "C:\\Users\\naren\\AppData\\Local\\Temp\\ipykernel_22404\\1727394441.py:1: FutureWarning: \n",
      "\n",
      "Passing `palette` without assigning `hue` is deprecated and will be removed in v0.14.0. Assign the `x` variable to `hue` and set `legend=False` for the same effect.\n",
      "\n",
      "  top_fifty_barplot = sns.barplot(x = top_fifty_tags.index, y = top_fifty_tags.values, palette='viridis')\n"
     ]
    },
    {
     "data": {
      "text/plain": [
       "<Axes: xlabel='tag'>"
      ]
     },
     "execution_count": 37,
     "metadata": {},
     "output_type": "execute_result"
    },
    {
     "data": {
      "image/png": "[encoded data removed]",
      "text/plain": [
       "<Figure size 640x480 with 1 Axes>"
      ]
     },
     "metadata": {},
     "output_type": "display_data"
    }
   ],
   "source": [
    "top_fifty_barplot = sns.barplot(x = top_fifty_tags.index, y = top_fifty_tags.values, palette='viridis')\n",
    "for i, label in enumerate(top_fifty_barplot.xaxis.get_ticklabels()):\n",
    "    if i%5 != 0:\n",
    "        label.set_visible(False)\n",
    "plt.xticks(rotation = 45)\n",
    "top_fifty_barplot"
   ]
  },
  {
   "cell_type": "code",
   "execution_count": 38,
   "metadata": {},
   "outputs": [
    {
     "name": "stdout",
     "output_type": "stream",
     "text": [
      "Number of tags that cover atleast 90% of the total occurences 1301\n"
     ]
    }
   ],
   "source": [
    "# Calculate cumulative percentages\n",
    "cumulative_percentages = 100 * tag_counts.cumsum() / tag_counts.sum()\n",
    "\n",
    "# Find the number of tags that cover at least 90% of the total occurrences\n",
    "num_tags_for_90_percent = (cumulative_percentages <= 90).sum()\n",
    "\n",
    "print(\"Number of tags that cover atleast 90% of the total occurences\",  num_tags_for_90_percent)"
   ]
  },
  {
   "cell_type": "markdown",
   "metadata": {},
   "source": [
    "### cumulative percentages"
   ]
  },
  {
   "cell_type": "code",
   "execution_count": 39,
   "metadata": {},
   "outputs": [
    {
     "name": "stdout",
     "output_type": "stream",
     "text": [
      "tag\n",
      "python             12.90%\n",
      "algorithm          24.48%\n",
      "data-structures    32.07%\n",
      "java               34.59%\n",
      "c++                36.65%\n",
      "                    ...  \n",
      "instance           90.25%\n",
      "faiss              90.26%\n",
      "python-importlib   90.27%\n",
      "task               90.27%\n",
      "powerpoint         90.28%\n",
      "Name: count, Length: 1350, dtype: float64\n"
     ]
    }
   ],
   "source": [
    "pd.options.display.float_format = \"{:.2f}%\".format\n",
    "print(100 * tag_counts.head(1350).cumsum() / tag_counts.sum())"
   ]
  },
  {
   "cell_type": "markdown",
   "metadata": {},
   "source": [
    "### Number of questions per tag clearly demonstrates a long tail distribution. Therefore, we can limit the number of tags to be considered."
   ]
  },
  {
   "cell_type": "code",
   "execution_count": 40,
   "metadata": {},
   "outputs": [],
   "source": [
    "#Make sure that the column names are all in lower case.\n",
    "\n",
    "for df in [questions_df, tags_df]:\n",
    "    df.columns = df.columns.str.lower() "
   ]
  },
  {
   "cell_type": "code",
   "execution_count": 41,
   "metadata": {},
   "outputs": [
    {
     "name": "stdout",
     "output_type": "stream",
     "text": [
      "CPU times: total: 1.22 s\n",
      "Wall time: 4.66 s\n"
     ]
    }
   ],
   "source": [
    "%%time\n",
    "# group rows per question id\n",
    "tags_per_question_df = tags_df.groupby(['id'])['tag'].apply(list)"
   ]
  },
  {
   "cell_type": "code",
   "execution_count": 42,
   "metadata": {},
   "outputs": [
    {
     "name": "stdout",
     "output_type": "stream",
     "text": [
      "id\n",
      "0      [json, python-polars]\n",
      "1                   [python]\n",
      "2    [python, string, input]\n",
      "3        [python, streamlit]\n",
      "4      [python, linked-list]\n",
      "Name: tag, dtype: object\n"
     ]
    }
   ],
   "source": [
    "print(tags_per_question_df.head())"
   ]
  },
  {
   "cell_type": "code",
   "execution_count": 43,
   "metadata": {},
   "outputs": [
    {
     "name": "stdout",
     "output_type": "stream",
     "text": [
      "CPU times: total: 15.6 ms\n",
      "Wall time: 84.8 ms\n"
     ]
    }
   ],
   "source": [
    "%%time\n",
    "# we are only interested in text column from `questions_df`\n",
    "df = questions_df[[\"id\", \"title\"]].merge(tags_per_question_df.to_frame(), on=\"id\")"
   ]
  },
  {
   "cell_type": "code",
   "execution_count": 44,
   "metadata": {},
   "outputs": [],
   "source": [
    "df['tag_count'] = df['tag'].apply(len)"
   ]
  },
  {
   "cell_type": "code",
   "execution_count": 45,
   "metadata": {},
   "outputs": [
    {
     "name": "stdout",
     "output_type": "stream",
     "text": [
      "Each question has a minimum of 1 tag and a maximum of 5 tags. The average number of tags per question is 3.46.\n"
     ]
    }
   ],
   "source": [
    "min_tag_count = df['tag_count'].min()\n",
    "max_tag_count = df['tag_count'].max()\n",
    "avg_tag_count = df['tag_count'].mean()\n",
    "print(f\"Each question has a minimum of {min_tag_count} tag and a maximum of {max_tag_count} tags. \\\n",
    "The average number of tags per question is {avg_tag_count:.2f}.\")"
   ]
  },
  {
   "cell_type": "markdown",
   "metadata": {},
   "source": [
    "### Text Preprocessing"
   ]
  },
  {
   "cell_type": "code",
   "execution_count": 46,
   "metadata": {},
   "outputs": [],
   "source": [
    "min_title_length = df[\"title\"].str.len().min()\n",
    "max_title_length = df[\"title\"].str.len().max()"
   ]
  },
  {
   "cell_type": "code",
   "execution_count": 47,
   "metadata": {},
   "outputs": [
    {
     "name": "stdout",
     "output_type": "stream",
     "text": [
      "min_question_length: 15\n",
      "max_question_length: 150\n"
     ]
    }
   ],
   "source": [
    "print(f\"min_question_length: {min_title_length}\")\n",
    "print(f\"max_question_length: {max_title_length}\")"
   ]
  },
  {
   "cell_type": "markdown",
   "metadata": {},
   "source": [
    "## Questions with minimum length "
   ]
  },
  {
   "cell_type": "code",
   "execution_count": 48,
   "metadata": {},
   "outputs": [
    {
     "data": {
      "text/html": [
       "<div>\n",
       "<style scoped>\n",
       "    .dataframe tbody tr th:only-of-type {\n",
       "        vertical-align: middle;\n",
       "    }\n",
       "\n",
       "    .dataframe tbody tr th {\n",
       "        vertical-align: top;\n",
       "    }\n",
       "\n",
       "    .dataframe thead th {\n",
       "        text-align: right;\n",
       "    }\n",
       "</style>\n",
       "<table border=\"1\" class=\"dataframe\">\n",
       "  <thead>\n",
       "    <tr style=\"text-align: right;\">\n",
       "      <th></th>\n",
       "      <th>id</th>\n",
       "      <th>title</th>\n",
       "      <th>tag</th>\n",
       "      <th>tag_count</th>\n",
       "    </tr>\n",
       "  </thead>\n",
       "  <tbody>\n",
       "    <tr>\n",
       "      <th>136</th>\n",
       "      <td>136</td>\n",
       "      <td>Docker &amp; gVisor</td>\n",
       "      <td>[python, typescript, docker, gvisor]</td>\n",
       "      <td>4</td>\n",
       "    </tr>\n",
       "    <tr>\n",
       "      <th>205</th>\n",
       "      <td>205</td>\n",
       "      <td>Telegram qr api</td>\n",
       "      <td>[python, telegram]</td>\n",
       "      <td>2</td>\n",
       "    </tr>\n",
       "    <tr>\n",
       "      <th>1078</th>\n",
       "      <td>1078</td>\n",
       "      <td>MODBUS on Linux</td>\n",
       "      <td>[python, linux, rs485, modbus-tcp, pymodbus]</td>\n",
       "      <td>5</td>\n",
       "    </tr>\n",
       "    <tr>\n",
       "      <th>3642</th>\n",
       "      <td>3642</td>\n",
       "      <td>Coloring a text</td>\n",
       "      <td>[python, text, colors, frame-rate]</td>\n",
       "      <td>4</td>\n",
       "    </tr>\n",
       "    <tr>\n",
       "      <th>7888</th>\n",
       "      <td>7888</td>\n",
       "      <td>Running Pyspark</td>\n",
       "      <td>[python, apache-spark, pyspark]</td>\n",
       "      <td>3</td>\n",
       "    </tr>\n",
       "    <tr>\n",
       "      <th>...</th>\n",
       "      <td>...</td>\n",
       "      <td>...</td>\n",
       "      <td>...</td>\n",
       "      <td>...</td>\n",
       "    </tr>\n",
       "    <tr>\n",
       "      <th>123782</th>\n",
       "      <td>123782</td>\n",
       "      <td>Minimum Element</td>\n",
       "      <td>[arrays, algorithm]</td>\n",
       "      <td>2</td>\n",
       "    </tr>\n",
       "    <tr>\n",
       "      <th>126552</th>\n",
       "      <td>126552</td>\n",
       "      <td>Optimizing loop</td>\n",
       "      <td>[c#, algorithm, loops, optimization]</td>\n",
       "      <td>4</td>\n",
       "    </tr>\n",
       "    <tr>\n",
       "      <th>127424</th>\n",
       "      <td>127424</td>\n",
       "      <td>Python Exercice</td>\n",
       "      <td>[python, algorithm]</td>\n",
       "      <td>2</td>\n",
       "    </tr>\n",
       "    <tr>\n",
       "      <th>128678</th>\n",
       "      <td>128678</td>\n",
       "      <td>Jalali Calendar</td>\n",
       "      <td>[c++, algorithm, time, calendar]</td>\n",
       "      <td>4</td>\n",
       "    </tr>\n",
       "    <tr>\n",
       "      <th>129085</th>\n",
       "      <td>129085</td>\n",
       "      <td>Is n ≠ Θ(logn)?</td>\n",
       "      <td>[algorithm, math, asymptotic-complexity, big-o]</td>\n",
       "      <td>4</td>\n",
       "    </tr>\n",
       "  </tbody>\n",
       "</table>\n",
       "<p>95 rows × 4 columns</p>\n",
       "</div>"
      ],
      "text/plain": [
       "            id            title  \\\n",
       "136        136  Docker & gVisor   \n",
       "205        205  Telegram qr api   \n",
       "1078      1078  MODBUS on Linux   \n",
       "3642      3642  Coloring a text   \n",
       "7888      7888  Running Pyspark   \n",
       "...        ...              ...   \n",
       "123782  123782  Minimum Element   \n",
       "126552  126552  Optimizing loop   \n",
       "127424  127424  Python Exercice   \n",
       "128678  128678  Jalali Calendar   \n",
       "129085  129085  Is n ≠ Θ(logn)?   \n",
       "\n",
       "                                                    tag  tag_count  \n",
       "136                [python, typescript, docker, gvisor]          4  \n",
       "205                                  [python, telegram]          2  \n",
       "1078       [python, linux, rs485, modbus-tcp, pymodbus]          5  \n",
       "3642                 [python, text, colors, frame-rate]          4  \n",
       "7888                    [python, apache-spark, pyspark]          3  \n",
       "...                                                 ...        ...  \n",
       "123782                              [arrays, algorithm]          2  \n",
       "126552             [c#, algorithm, loops, optimization]          4  \n",
       "127424                              [python, algorithm]          2  \n",
       "128678                 [c++, algorithm, time, calendar]          4  \n",
       "129085  [algorithm, math, asymptotic-complexity, big-o]          4  \n",
       "\n",
       "[95 rows x 4 columns]"
      ]
     },
     "execution_count": 48,
     "metadata": {},
     "output_type": "execute_result"
    }
   ],
   "source": [
    "df[df[\"title\"].str.len() == min_title_length]"
   ]
  },
  {
   "cell_type": "markdown",
   "metadata": {},
   "source": [
    "## Questions with maximum length"
   ]
  },
  {
   "cell_type": "code",
   "execution_count": 49,
   "metadata": {},
   "outputs": [
    {
     "data": {
      "text/html": [
       "<div>\n",
       "<style scoped>\n",
       "    .dataframe tbody tr th:only-of-type {\n",
       "        vertical-align: middle;\n",
       "    }\n",
       "\n",
       "    .dataframe tbody tr th {\n",
       "        vertical-align: top;\n",
       "    }\n",
       "\n",
       "    .dataframe thead th {\n",
       "        text-align: right;\n",
       "    }\n",
       "</style>\n",
       "<table border=\"1\" class=\"dataframe\">\n",
       "  <thead>\n",
       "    <tr style=\"text-align: right;\">\n",
       "      <th></th>\n",
       "      <th>id</th>\n",
       "      <th>title</th>\n",
       "      <th>tag</th>\n",
       "      <th>tag_count</th>\n",
       "    </tr>\n",
       "  </thead>\n",
       "  <tbody>\n",
       "    <tr>\n",
       "      <th>286</th>\n",
       "      <td>286</td>\n",
       "      <td>ValueError:The field admin.LogEntry.user was declared with a lazy reference to 'recipes.customuser',but app'recipes'doesn't provide model 'customuser'</td>\n",
       "      <td>[python, django, django-models, django-settings]</td>\n",
       "      <td>4</td>\n",
       "    </tr>\n",
       "    <tr>\n",
       "      <th>1828</th>\n",
       "      <td>1828</td>\n",
       "      <td>Baffling! Trying to get ChatGPT to perform an API call to Google Calendar API but it sometimes get stuck saying it made an event but there is no event</td>\n",
       "      <td>[python, aws-lambda, google-calendar-api, openai-api, chatgpt-api]</td>\n",
       "      <td>5</td>\n",
       "    </tr>\n",
       "    <tr>\n",
       "      <th>2043</th>\n",
       "      <td>2043</td>\n",
       "      <td>I have a rabbitmq service in aws ec2 and i have attached an Route 53 record for it but when i am giving the record in code instead of ip getting error</td>\n",
       "      <td>[python, asp.net, amazon-web-services, devops]</td>\n",
       "      <td>4</td>\n",
       "    </tr>\n",
       "    <tr>\n",
       "      <th>2737</th>\n",
       "      <td>2737</td>\n",
       "      <td>Trying to convert code to be compatible with macOS by not using the .exe version of FFmpeg and FFmprobe. Cant open the .mp4 file when i go to run code</td>\n",
       "      <td>[python, ffmpeg, operating-system, compatibility, ffmpeg-python]</td>\n",
       "      <td>5</td>\n",
       "    </tr>\n",
       "    <tr>\n",
       "      <th>2774</th>\n",
       "      <td>2774</td>\n",
       "      <td>tensorflow.python.framework.errors_impl.FailedPreconditionError: C:\\Users\\Ata Onur Özdemir\\PycharmProjects\\Emotion_Detection\\output is not a directory</td>\n",
       "      <td>[python-3.x, dictionary, tensorflow, huggingface-transformers, huggingface-trainer]</td>\n",
       "      <td>5</td>\n",
       "    </tr>\n",
       "    <tr>\n",
       "      <th>...</th>\n",
       "      <td>...</td>\n",
       "      <td>...</td>\n",
       "      <td>...</td>\n",
       "      <td>...</td>\n",
       "    </tr>\n",
       "    <tr>\n",
       "      <th>114620</th>\n",
       "      <td>114620</td>\n",
       "      <td>A transport vehicle with max 500lb capacity, list of passengers weighing [130, 170, 140. 100] ,shd return [130, 170] to leave exactly 300lb for safety</td>\n",
       "      <td>[java, algorithm, arraylist, bin-packing]</td>\n",
       "      <td>4</td>\n",
       "    </tr>\n",
       "    <tr>\n",
       "      <th>120544</th>\n",
       "      <td>120544</td>\n",
       "      <td>Can anyone show me an algorithm to create a function that returns all possible partitions of an array into n subsets while maintaining order of array?</td>\n",
       "      <td>[arrays, array-algorithms]</td>\n",
       "      <td>2</td>\n",
       "    </tr>\n",
       "    <tr>\n",
       "      <th>121373</th>\n",
       "      <td>121373</td>\n",
       "      <td>I want to solve Project Euler #1 more efficiently by using arithmetic progression formula, but my algorithm returns answers that are just slightly off</td>\n",
       "      <td>[java, algorithm]</td>\n",
       "      <td>2</td>\n",
       "    </tr>\n",
       "    <tr>\n",
       "      <th>121560</th>\n",
       "      <td>121560</td>\n",
       "      <td>How to Recursively Multiply two positive integers without using the * operator (or / operator) ? . You can use addition, subtraction, and bit shifting</td>\n",
       "      <td>[python, algorithm, recursion, dynamic-programming]</td>\n",
       "      <td>4</td>\n",
       "    </tr>\n",
       "    <tr>\n",
       "      <th>122036</th>\n",
       "      <td>122036</td>\n",
       "      <td>Arrange all elements of a n-sized array so that the output array has all negative elements first, then zeros and the the positive ones without sorting</td>\n",
       "      <td>[arrays, algorithm, dynamic-programming, partitioning]</td>\n",
       "      <td>4</td>\n",
       "    </tr>\n",
       "  </tbody>\n",
       "</table>\n",
       "<p>107 rows × 4 columns</p>\n",
       "</div>"
      ],
      "text/plain": [
       "            id  \\\n",
       "286        286   \n",
       "1828      1828   \n",
       "2043      2043   \n",
       "2737      2737   \n",
       "2774      2774   \n",
       "...        ...   \n",
       "114620  114620   \n",
       "120544  120544   \n",
       "121373  121373   \n",
       "121560  121560   \n",
       "122036  122036   \n",
       "\n",
       "                                                                                                                                                         title  \\\n",
       "286     ValueError:The field admin.LogEntry.user was declared with a lazy reference to 'recipes.customuser',but app'recipes'doesn't provide model 'customuser'   \n",
       "1828    Baffling! Trying to get ChatGPT to perform an API call to Google Calendar API but it sometimes get stuck saying it made an event but there is no event   \n",
       "2043    I have a rabbitmq service in aws ec2 and i have attached an Route 53 record for it but when i am giving the record in code instead of ip getting error   \n",
       "2737    Trying to convert code to be compatible with macOS by not using the .exe version of FFmpeg and FFmprobe. Cant open the .mp4 file when i go to run code   \n",
       "2774    tensorflow.python.framework.errors_impl.FailedPreconditionError: C:\\Users\\Ata Onur Özdemir\\PycharmProjects\\Emotion_Detection\\output is not a directory   \n",
       "...                                                                                                                                                        ...   \n",
       "114620  A transport vehicle with max 500lb capacity, list of passengers weighing [130, 170, 140. 100] ,shd return [130, 170] to leave exactly 300lb for safety   \n",
       "120544  Can anyone show me an algorithm to create a function that returns all possible partitions of an array into n subsets while maintaining order of array?   \n",
       "121373  I want to solve Project Euler #1 more efficiently by using arithmetic progression formula, but my algorithm returns answers that are just slightly off   \n",
       "121560  How to Recursively Multiply two positive integers without using the * operator (or / operator) ? . You can use addition, subtraction, and bit shifting   \n",
       "122036  Arrange all elements of a n-sized array so that the output array has all negative elements first, then zeros and the the positive ones without sorting   \n",
       "\n",
       "                                                                                        tag  \\\n",
       "286                                        [python, django, django-models, django-settings]   \n",
       "1828                     [python, aws-lambda, google-calendar-api, openai-api, chatgpt-api]   \n",
       "2043                                         [python, asp.net, amazon-web-services, devops]   \n",
       "2737                       [python, ffmpeg, operating-system, compatibility, ffmpeg-python]   \n",
       "2774    [python-3.x, dictionary, tensorflow, huggingface-transformers, huggingface-trainer]   \n",
       "...                                                                                     ...   \n",
       "114620                                            [java, algorithm, arraylist, bin-packing]   \n",
       "120544                                                           [arrays, array-algorithms]   \n",
       "121373                                                                    [java, algorithm]   \n",
       "121560                                  [python, algorithm, recursion, dynamic-programming]   \n",
       "122036                               [arrays, algorithm, dynamic-programming, partitioning]   \n",
       "\n",
       "        tag_count  \n",
       "286             4  \n",
       "1828            5  \n",
       "2043            4  \n",
       "2737            5  \n",
       "2774            5  \n",
       "...           ...  \n",
       "114620          4  \n",
       "120544          2  \n",
       "121373          2  \n",
       "121560          4  \n",
       "122036          4  \n",
       "\n",
       "[107 rows x 4 columns]"
      ]
     },
     "execution_count": 49,
     "metadata": {},
     "output_type": "execute_result"
    }
   ],
   "source": [
    "df[df[\"title\"].str.len() == max_title_length]"
   ]
  },
  {
   "cell_type": "code",
   "execution_count": 50,
   "metadata": {},
   "outputs": [],
   "source": [
    "# we have to keep a list of topics with symbols or digits that people will actually type in because of how nltk handles word tokenization\n",
    "# this list includes tags that have more than 10,000 questions as of 2020 Jan\n",
    "topics_with_symbols = [\"c#\", \"c++\", \".net\", \"asp.net\", \"node.js\", \"objective-c\", \"unity3d\", \"html5\", \"css3\", \\\n",
    "                       \"d3.js\", \"utf-8\", \"neo4j\", \"scikit-learn\", \"f#\", \"3d\", \"x86\"]\n",
    "\n",
    "df[\"title\"] = df[\"title\"].str.lower()\n",
    "\n",
    "df[\"title_tokenized\"] = df[\"title\"].apply(lambda text: [word for word in nltk.word_tokenize(text) \\\n",
    "                                                               if word.isalpha() or word in list(\"+#\") + topics_with_symbols])"
   ]
  },
  {
   "cell_type": "code",
   "execution_count": 51,
   "metadata": {},
   "outputs": [
    {
     "data": {
      "text/html": [
       "<div>\n",
       "<style scoped>\n",
       "    .dataframe tbody tr th:only-of-type {\n",
       "        vertical-align: middle;\n",
       "    }\n",
       "\n",
       "    .dataframe tbody tr th {\n",
       "        vertical-align: top;\n",
       "    }\n",
       "\n",
       "    .dataframe thead th {\n",
       "        text-align: right;\n",
       "    }\n",
       "</style>\n",
       "<table border=\"1\" class=\"dataframe\">\n",
       "  <thead>\n",
       "    <tr style=\"text-align: right;\">\n",
       "      <th></th>\n",
       "      <th>id</th>\n",
       "      <th>title</th>\n",
       "      <th>tag</th>\n",
       "      <th>tag_count</th>\n",
       "      <th>title_tokenized</th>\n",
       "    </tr>\n",
       "  </thead>\n",
       "  <tbody>\n",
       "    <tr>\n",
       "      <th>0</th>\n",
       "      <td>0</td>\n",
       "      <td>write/read to/from json a python dict that has a polars df for one or more keys</td>\n",
       "      <td>[json, python-polars]</td>\n",
       "      <td>2</td>\n",
       "      <td>[json, a, python, dict, that, has, a, polars, df, for, one, or, more, keys]</td>\n",
       "    </tr>\n",
       "    <tr>\n",
       "      <th>1</th>\n",
       "      <td>1</td>\n",
       "      <td>python: how to remove brackets and single-quotes from csvreader list?</td>\n",
       "      <td>[python]</td>\n",
       "      <td>1</td>\n",
       "      <td>[python, how, to, remove, brackets, and, from, csvreader, list]</td>\n",
       "    </tr>\n",
       "    <tr>\n",
       "      <th>2</th>\n",
       "      <td>2</td>\n",
       "      <td>multi-line input in python with support of empty lines and check of \"\\n\" in the console</td>\n",
       "      <td>[python, string, input]</td>\n",
       "      <td>3</td>\n",
       "      <td>[input, in, python, with, support, of, empty, lines, and, check, of, in, the, console]</td>\n",
       "    </tr>\n",
       "    <tr>\n",
       "      <th>3</th>\n",
       "      <td>3</td>\n",
       "      <td>streamlit - text color in menu</td>\n",
       "      <td>[python, streamlit]</td>\n",
       "      <td>2</td>\n",
       "      <td>[streamlit, text, color, in, menu]</td>\n",
       "    </tr>\n",
       "    <tr>\n",
       "      <th>4</th>\n",
       "      <td>4</td>\n",
       "      <td>nonetype is not subscriptable in linked list</td>\n",
       "      <td>[python, linked-list]</td>\n",
       "      <td>2</td>\n",
       "      <td>[nonetype, is, not, subscriptable, in, linked, list]</td>\n",
       "    </tr>\n",
       "    <tr>\n",
       "      <th>...</th>\n",
       "      <td>...</td>\n",
       "      <td>...</td>\n",
       "      <td>...</td>\n",
       "      <td>...</td>\n",
       "      <td>...</td>\n",
       "    </tr>\n",
       "    <tr>\n",
       "      <th>129443</th>\n",
       "      <td>129443</td>\n",
       "      <td>recursive implementation of greatest common divisor in python</td>\n",
       "      <td>[python, algorithm]</td>\n",
       "      <td>2</td>\n",
       "      <td>[recursive, implementation, of, greatest, common, divisor, in, python]</td>\n",
       "    </tr>\n",
       "    <tr>\n",
       "      <th>129444</th>\n",
       "      <td>129444</td>\n",
       "      <td>speeding up this code — 192 trillion for() loops</td>\n",
       "      <td>[c#, algorithmic-trading]</td>\n",
       "      <td>2</td>\n",
       "      <td>[speeding, up, this, code, trillion, for, loops]</td>\n",
       "    </tr>\n",
       "    <tr>\n",
       "      <th>129445</th>\n",
       "      <td>129445</td>\n",
       "      <td>how to make inner object in object using recursive code in javascript</td>\n",
       "      <td>[javascript, algorithm, recursion]</td>\n",
       "      <td>3</td>\n",
       "      <td>[how, to, make, inner, object, in, object, using, recursive, code, in, javascript]</td>\n",
       "    </tr>\n",
       "    <tr>\n",
       "      <th>129446</th>\n",
       "      <td>129446</td>\n",
       "      <td>find two element a and b from set a and b such that on swapping these elements, sum of sets is equal</td>\n",
       "      <td>[algorithm, math]</td>\n",
       "      <td>2</td>\n",
       "      <td>[find, two, element, a, and, b, from, set, a, and, b, such, that, on, swapping, these, elements, sum, of, sets, is, equal]</td>\n",
       "    </tr>\n",
       "    <tr>\n",
       "      <th>129447</th>\n",
       "      <td>129447</td>\n",
       "      <td>how exactly were all the round constants for sha-3 generated?</td>\n",
       "      <td>[javascript, algorithm, bit-manipulation, sha-3, lfsr]</td>\n",
       "      <td>5</td>\n",
       "      <td>[how, exactly, were, all, the, round, constants, for, generated]</td>\n",
       "    </tr>\n",
       "  </tbody>\n",
       "</table>\n",
       "<p>129448 rows × 5 columns</p>\n",
       "</div>"
      ],
      "text/plain": [
       "            id  \\\n",
       "0            0   \n",
       "1            1   \n",
       "2            2   \n",
       "3            3   \n",
       "4            4   \n",
       "...        ...   \n",
       "129443  129443   \n",
       "129444  129444   \n",
       "129445  129445   \n",
       "129446  129446   \n",
       "129447  129447   \n",
       "\n",
       "                                                                                                       title  \\\n",
       "0                            write/read to/from json a python dict that has a polars df for one or more keys   \n",
       "1                                      python: how to remove brackets and single-quotes from csvreader list?   \n",
       "2                    multi-line input in python with support of empty lines and check of \"\\n\" in the console   \n",
       "3                                                                             streamlit - text color in menu   \n",
       "4                                                               nonetype is not subscriptable in linked list   \n",
       "...                                                                                                      ...   \n",
       "129443                                         recursive implementation of greatest common divisor in python   \n",
       "129444                                                      speeding up this code — 192 trillion for() loops   \n",
       "129445                                 how to make inner object in object using recursive code in javascript   \n",
       "129446  find two element a and b from set a and b such that on swapping these elements, sum of sets is equal   \n",
       "129447                                         how exactly were all the round constants for sha-3 generated?   \n",
       "\n",
       "                                                           tag  tag_count  \\\n",
       "0                                        [json, python-polars]          2   \n",
       "1                                                     [python]          1   \n",
       "2                                      [python, string, input]          3   \n",
       "3                                          [python, streamlit]          2   \n",
       "4                                        [python, linked-list]          2   \n",
       "...                                                        ...        ...   \n",
       "129443                                     [python, algorithm]          2   \n",
       "129444                               [c#, algorithmic-trading]          2   \n",
       "129445                      [javascript, algorithm, recursion]          3   \n",
       "129446                                       [algorithm, math]          2   \n",
       "129447  [javascript, algorithm, bit-manipulation, sha-3, lfsr]          5   \n",
       "\n",
       "                                                                                                                   title_tokenized  \n",
       "0                                                      [json, a, python, dict, that, has, a, polars, df, for, one, or, more, keys]  \n",
       "1                                                                  [python, how, to, remove, brackets, and, from, csvreader, list]  \n",
       "2                                           [input, in, python, with, support, of, empty, lines, and, check, of, in, the, console]  \n",
       "3                                                                                               [streamlit, text, color, in, menu]  \n",
       "4                                                                             [nonetype, is, not, subscriptable, in, linked, list]  \n",
       "...                                                                                                                            ...  \n",
       "129443                                                      [recursive, implementation, of, greatest, common, divisor, in, python]  \n",
       "129444                                                                            [speeding, up, this, code, trillion, for, loops]  \n",
       "129445                                          [how, to, make, inner, object, in, object, using, recursive, code, in, javascript]  \n",
       "129446  [find, two, element, a, and, b, from, set, a, and, b, such, that, on, swapping, these, elements, sum, of, sets, is, equal]  \n",
       "129447                                                            [how, exactly, were, all, the, round, constants, for, generated]  \n",
       "\n",
       "[129448 rows x 5 columns]"
      ]
     },
     "execution_count": 51,
     "metadata": {},
     "output_type": "execute_result"
    }
   ],
   "source": [
    "df"
   ]
  },
  {
   "cell_type": "code",
   "execution_count": 52,
   "metadata": {},
   "outputs": [],
   "source": [
    "df.rename(columns={'tag':'tags'}, inplace = True)"
   ]
  },
  {
   "cell_type": "markdown",
   "metadata": {},
   "source": [
    "## Feature Extraction"
   ]
  },
  {
   "cell_type": "code",
   "execution_count": 53,
   "metadata": {},
   "outputs": [
    {
     "name": "stdout",
     "output_type": "stream",
     "text": [
      "The total number of tags: 12656\n"
     ]
    }
   ],
   "source": [
    "from collections import Counter\n",
    "\n",
    "tag_count = Counter()\n",
    "\n",
    "def count_tag(tags):\n",
    "    for tag in tags:\n",
    "        tag_count[tag] += 1\n",
    "\n",
    "df[\"tags\"].apply(count_tag)\n",
    "\n",
    "print(\"The total number of tags:\",len(tag_count.values()))"
   ]
  },
  {
   "cell_type": "code",
   "execution_count": 54,
   "metadata": {},
   "outputs": [
    {
     "name": "stderr",
     "output_type": "stream",
     "text": [
      "100%|██████████| 129448/129448 [00:03<00:00, 41787.51it/s]\n"
     ]
    }
   ],
   "source": [
    "import pandas as pd\n",
    "from tqdm import tqdm\n",
    "\n",
    "tqdm.pandas()\n",
    "\n",
    "most_common_tags = [count[0] for count in tag_count.most_common(1350)]\n",
    "df[\"tags\"] = df[\"tags\"].progress_apply(lambda tags: [tag for tag in tags if tag in most_common_tags])\n"
   ]
  },
  {
   "cell_type": "code",
   "execution_count": 55,
   "metadata": {},
   "outputs": [
    {
     "data": {
      "text/html": [
       "<div>\n",
       "<style scoped>\n",
       "    .dataframe tbody tr th:only-of-type {\n",
       "        vertical-align: middle;\n",
       "    }\n",
       "\n",
       "    .dataframe tbody tr th {\n",
       "        vertical-align: top;\n",
       "    }\n",
       "\n",
       "    .dataframe thead th {\n",
       "        text-align: right;\n",
       "    }\n",
       "</style>\n",
       "<table border=\"1\" class=\"dataframe\">\n",
       "  <thead>\n",
       "    <tr style=\"text-align: right;\">\n",
       "      <th></th>\n",
       "      <th>title_tokenized</th>\n",
       "    </tr>\n",
       "  </thead>\n",
       "  <tbody>\n",
       "    <tr>\n",
       "      <th>0</th>\n",
       "      <td>[json, a, python, dict, that, has, a, polars, df, for, one, or, more, keys]</td>\n",
       "    </tr>\n",
       "    <tr>\n",
       "      <th>1</th>\n",
       "      <td>[python, how, to, remove, brackets, and, from, csvreader, list]</td>\n",
       "    </tr>\n",
       "    <tr>\n",
       "      <th>2</th>\n",
       "      <td>[input, in, python, with, support, of, empty, lines, and, check, of, in, the, console]</td>\n",
       "    </tr>\n",
       "    <tr>\n",
       "      <th>3</th>\n",
       "      <td>[streamlit, text, color, in, menu]</td>\n",
       "    </tr>\n",
       "    <tr>\n",
       "      <th>4</th>\n",
       "      <td>[nonetype, is, not, subscriptable, in, linked, list]</td>\n",
       "    </tr>\n",
       "    <tr>\n",
       "      <th>...</th>\n",
       "      <td>...</td>\n",
       "    </tr>\n",
       "    <tr>\n",
       "      <th>129443</th>\n",
       "      <td>[recursive, implementation, of, greatest, common, divisor, in, python]</td>\n",
       "    </tr>\n",
       "    <tr>\n",
       "      <th>129444</th>\n",
       "      <td>[speeding, up, this, code, trillion, for, loops]</td>\n",
       "    </tr>\n",
       "    <tr>\n",
       "      <th>129445</th>\n",
       "      <td>[how, to, make, inner, object, in, object, using, recursive, code, in, javascript]</td>\n",
       "    </tr>\n",
       "    <tr>\n",
       "      <th>129446</th>\n",
       "      <td>[find, two, element, a, and, b, from, set, a, and, b, such, that, on, swapping, these, elements, sum, of, sets, is, equal]</td>\n",
       "    </tr>\n",
       "    <tr>\n",
       "      <th>129447</th>\n",
       "      <td>[how, exactly, were, all, the, round, constants, for, generated]</td>\n",
       "    </tr>\n",
       "  </tbody>\n",
       "</table>\n",
       "<p>129448 rows × 1 columns</p>\n",
       "</div>"
      ],
      "text/plain": [
       "                                                                                                                   title_tokenized\n",
       "0                                                      [json, a, python, dict, that, has, a, polars, df, for, one, or, more, keys]\n",
       "1                                                                  [python, how, to, remove, brackets, and, from, csvreader, list]\n",
       "2                                           [input, in, python, with, support, of, empty, lines, and, check, of, in, the, console]\n",
       "3                                                                                               [streamlit, text, color, in, menu]\n",
       "4                                                                             [nonetype, is, not, subscriptable, in, linked, list]\n",
       "...                                                                                                                            ...\n",
       "129443                                                      [recursive, implementation, of, greatest, common, divisor, in, python]\n",
       "129444                                                                            [speeding, up, this, code, trillion, for, loops]\n",
       "129445                                          [how, to, make, inner, object, in, object, using, recursive, code, in, javascript]\n",
       "129446  [find, two, element, a, and, b, from, set, a, and, b, such, that, on, swapping, these, elements, sum, of, sets, is, equal]\n",
       "129447                                                            [how, exactly, were, all, the, round, constants, for, generated]\n",
       "\n",
       "[129448 rows x 1 columns]"
      ]
     },
     "execution_count": 55,
     "metadata": {},
     "output_type": "execute_result"
    }
   ],
   "source": [
    "df[['title_tokenized']]"
   ]
  },
  {
   "cell_type": "markdown",
   "metadata": {},
   "source": [
    "### tf-idf Vectorization"
   ]
  },
  {
   "cell_type": "code",
   "execution_count": 56,
   "metadata": {},
   "outputs": [
    {
     "name": "stdout",
     "output_type": "stream",
     "text": [
      "  (0, 4601)\t0.3127521925581952\n",
      "  (0, 5438)\t0.2968836647714753\n",
      "  (0, 5961)\t0.23011522115366032\n",
      "  (0, 5885)\t0.24607622763391468\n",
      "  (0, 3320)\t0.15713543788057902\n",
      "  (0, 2323)\t0.39272975912285285\n",
      "  (0, 6413)\t0.32950404782436366\n",
      "  (0, 3778)\t0.2728686361987966\n",
      "  (0, 8866)\t0.21193485602274087\n",
      "  (0, 2345)\t0.35747153481542077\n",
      "  (0, 6857)\t0.15294482000395992\n",
      "  (0, 4)\t0.22992906298316468\n",
      "  (0, 4533)\t0.29936505768957805\n",
      "  (1, 4851)\t0.2954932357494737\n",
      "  (1, 3406)\t0.2726679857546049\n",
      "  (1, 321)\t0.2426113250683118\n",
      "  (1, 946)\t0.6673846474303045\n",
      "  (1, 7326)\t0.45720667885543126\n",
      "  (1, 8998)\t0.16573138686351616\n",
      "  (1, 3947)\t0.20222832750923486\n",
      "  (1, 6857)\t0.238059358700427\n",
      "  (2, 1704)\t0.41737527495607935\n",
      "  (2, 8868)\t0.14235512661723887\n",
      "  (2, 1257)\t0.30168658345957877\n",
      "  (2, 4825)\t0.35414012281066654\n",
      "  :\t:\n",
      "  (129446, 7917)\t0.24938520022755414\n",
      "  (129446, 8881)\t0.2731399059828839\n",
      "  (129446, 2863)\t0.2426739107086155\n",
      "  (129446, 7913)\t0.18957790696249247\n",
      "  (129446, 9248)\t0.1740323947844698\n",
      "  (129446, 2727)\t0.19594644269067735\n",
      "  (129446, 8624)\t0.19695279529684354\n",
      "  (129446, 3209)\t0.15298011659624816\n",
      "  (129446, 2729)\t0.1867831814761477\n",
      "  (129446, 5881)\t0.1442855051943054\n",
      "  (129446, 4436)\t0.12267621700133498\n",
      "  (129446, 5857)\t0.0948810736243047\n",
      "  (129446, 3406)\t0.1337132693430279\n",
      "  (129446, 321)\t0.23794765171825982\n",
      "  (129446, 8866)\t0.16176822991863554\n",
      "  (129446, 4)\t0.1755030683657148\n",
      "  (129447, 1711)\t0.4846178801515104\n",
      "  (129447, 7593)\t0.40664878840132873\n",
      "  (129447, 3505)\t0.3814377270704578\n",
      "  (129447, 2959)\t0.38702282282139155\n",
      "  (129447, 237)\t0.23473928937424843\n",
      "  (129447, 9772)\t0.43236461056660974\n",
      "  (129447, 8868)\t0.13633210356454123\n",
      "  (129447, 3947)\t0.1334715263647716\n",
      "  (129447, 3320)\t0.1614251741614504\n"
     ]
    },
    {
     "data": {
      "text/plain": [
       "['tfidf_vectorizer.pkl']"
      ]
     },
     "execution_count": 56,
     "metadata": {},
     "output_type": "execute_result"
    }
   ],
   "source": [
    "from sklearn.feature_extraction.text import TfidfVectorizer\n",
    "\n",
    "# Dummy tokenizer that bypasses tokenization\n",
    "def dummy_tokenizer(doc):\n",
    "    return doc\n",
    "\n",
    "# Initialize the vectorizer with custom tokenizer\n",
    "title_vectorizer = TfidfVectorizer(tokenizer=dummy_tokenizer, lowercase=False,max_features=10000, token_pattern= None)\n",
    "\n",
    "# Fit and transform the title_tokenized column\n",
    "x_title = title_vectorizer.fit_transform(df[\"title_tokenized\"])\n",
    "\n",
    "print(x_title)\n",
    "\n",
    "## Save the embeddings\n",
    "joblib.dump(title_vectorizer, \"tfidf_vectorizer.pkl\")"
   ]
  },
  {
   "cell_type": "code",
   "execution_count": 57,
   "metadata": {},
   "outputs": [],
   "source": [
    "# there is a problematic tag named \"nan\" which causes string comparison error\n",
    "df[\"tags\"] = df[\"tags\"].apply(lambda tags: [tag if not isinstance(tag, float) else \"nan\" for tag in tags])"
   ]
  },
  {
   "cell_type": "code",
   "execution_count": 58,
   "metadata": {},
   "outputs": [],
   "source": [
    "x_title = x_title *2"
   ]
  },
  {
   "cell_type": "code",
   "execution_count": 59,
   "metadata": {},
   "outputs": [
    {
     "data": {
      "text/html": [
       "<div>\n",
       "<style scoped>\n",
       "    .dataframe tbody tr th:only-of-type {\n",
       "        vertical-align: middle;\n",
       "    }\n",
       "\n",
       "    .dataframe tbody tr th {\n",
       "        vertical-align: top;\n",
       "    }\n",
       "\n",
       "    .dataframe thead th {\n",
       "        text-align: right;\n",
       "    }\n",
       "</style>\n",
       "<table border=\"1\" class=\"dataframe\">\n",
       "  <thead>\n",
       "    <tr style=\"text-align: right;\">\n",
       "      <th></th>\n",
       "      <th>id</th>\n",
       "      <th>title</th>\n",
       "      <th>tags</th>\n",
       "      <th>tag_count</th>\n",
       "      <th>title_tokenized</th>\n",
       "    </tr>\n",
       "  </thead>\n",
       "  <tbody>\n",
       "    <tr>\n",
       "      <th>0</th>\n",
       "      <td>0</td>\n",
       "      <td>write/read to/from json a python dict that has a polars df for one or more keys</td>\n",
       "      <td>[json, python-polars]</td>\n",
       "      <td>2</td>\n",
       "      <td>[json, a, python, dict, that, has, a, polars, df, for, one, or, more, keys]</td>\n",
       "    </tr>\n",
       "    <tr>\n",
       "      <th>1</th>\n",
       "      <td>1</td>\n",
       "      <td>python: how to remove brackets and single-quotes from csvreader list?</td>\n",
       "      <td>[python]</td>\n",
       "      <td>1</td>\n",
       "      <td>[python, how, to, remove, brackets, and, from, csvreader, list]</td>\n",
       "    </tr>\n",
       "    <tr>\n",
       "      <th>2</th>\n",
       "      <td>2</td>\n",
       "      <td>multi-line input in python with support of empty lines and check of \"\\n\" in the console</td>\n",
       "      <td>[python, string, input]</td>\n",
       "      <td>3</td>\n",
       "      <td>[input, in, python, with, support, of, empty, lines, and, check, of, in, the, console]</td>\n",
       "    </tr>\n",
       "    <tr>\n",
       "      <th>3</th>\n",
       "      <td>3</td>\n",
       "      <td>streamlit - text color in menu</td>\n",
       "      <td>[python, streamlit]</td>\n",
       "      <td>2</td>\n",
       "      <td>[streamlit, text, color, in, menu]</td>\n",
       "    </tr>\n",
       "    <tr>\n",
       "      <th>4</th>\n",
       "      <td>4</td>\n",
       "      <td>nonetype is not subscriptable in linked list</td>\n",
       "      <td>[python, linked-list]</td>\n",
       "      <td>2</td>\n",
       "      <td>[nonetype, is, not, subscriptable, in, linked, list]</td>\n",
       "    </tr>\n",
       "    <tr>\n",
       "      <th>...</th>\n",
       "      <td>...</td>\n",
       "      <td>...</td>\n",
       "      <td>...</td>\n",
       "      <td>...</td>\n",
       "      <td>...</td>\n",
       "    </tr>\n",
       "    <tr>\n",
       "      <th>129443</th>\n",
       "      <td>129443</td>\n",
       "      <td>recursive implementation of greatest common divisor in python</td>\n",
       "      <td>[python, algorithm]</td>\n",
       "      <td>2</td>\n",
       "      <td>[recursive, implementation, of, greatest, common, divisor, in, python]</td>\n",
       "    </tr>\n",
       "    <tr>\n",
       "      <th>129444</th>\n",
       "      <td>129444</td>\n",
       "      <td>speeding up this code — 192 trillion for() loops</td>\n",
       "      <td>[c#, algorithmic-trading]</td>\n",
       "      <td>2</td>\n",
       "      <td>[speeding, up, this, code, trillion, for, loops]</td>\n",
       "    </tr>\n",
       "    <tr>\n",
       "      <th>129445</th>\n",
       "      <td>129445</td>\n",
       "      <td>how to make inner object in object using recursive code in javascript</td>\n",
       "      <td>[javascript, algorithm, recursion]</td>\n",
       "      <td>3</td>\n",
       "      <td>[how, to, make, inner, object, in, object, using, recursive, code, in, javascript]</td>\n",
       "    </tr>\n",
       "    <tr>\n",
       "      <th>129446</th>\n",
       "      <td>129446</td>\n",
       "      <td>find two element a and b from set a and b such that on swapping these elements, sum of sets is equal</td>\n",
       "      <td>[algorithm, math]</td>\n",
       "      <td>2</td>\n",
       "      <td>[find, two, element, a, and, b, from, set, a, and, b, such, that, on, swapping, these, elements, sum, of, sets, is, equal]</td>\n",
       "    </tr>\n",
       "    <tr>\n",
       "      <th>129447</th>\n",
       "      <td>129447</td>\n",
       "      <td>how exactly were all the round constants for sha-3 generated?</td>\n",
       "      <td>[javascript, algorithm, bit-manipulation]</td>\n",
       "      <td>5</td>\n",
       "      <td>[how, exactly, were, all, the, round, constants, for, generated]</td>\n",
       "    </tr>\n",
       "  </tbody>\n",
       "</table>\n",
       "<p>129448 rows × 5 columns</p>\n",
       "</div>"
      ],
      "text/plain": [
       "            id  \\\n",
       "0            0   \n",
       "1            1   \n",
       "2            2   \n",
       "3            3   \n",
       "4            4   \n",
       "...        ...   \n",
       "129443  129443   \n",
       "129444  129444   \n",
       "129445  129445   \n",
       "129446  129446   \n",
       "129447  129447   \n",
       "\n",
       "                                                                                                       title  \\\n",
       "0                            write/read to/from json a python dict that has a polars df for one or more keys   \n",
       "1                                      python: how to remove brackets and single-quotes from csvreader list?   \n",
       "2                    multi-line input in python with support of empty lines and check of \"\\n\" in the console   \n",
       "3                                                                             streamlit - text color in menu   \n",
       "4                                                               nonetype is not subscriptable in linked list   \n",
       "...                                                                                                      ...   \n",
       "129443                                         recursive implementation of greatest common divisor in python   \n",
       "129444                                                      speeding up this code — 192 trillion for() loops   \n",
       "129445                                 how to make inner object in object using recursive code in javascript   \n",
       "129446  find two element a and b from set a and b such that on swapping these elements, sum of sets is equal   \n",
       "129447                                         how exactly were all the round constants for sha-3 generated?   \n",
       "\n",
       "                                             tags  tag_count  \\\n",
       "0                           [json, python-polars]          2   \n",
       "1                                        [python]          1   \n",
       "2                         [python, string, input]          3   \n",
       "3                             [python, streamlit]          2   \n",
       "4                           [python, linked-list]          2   \n",
       "...                                           ...        ...   \n",
       "129443                        [python, algorithm]          2   \n",
       "129444                  [c#, algorithmic-trading]          2   \n",
       "129445         [javascript, algorithm, recursion]          3   \n",
       "129446                          [algorithm, math]          2   \n",
       "129447  [javascript, algorithm, bit-manipulation]          5   \n",
       "\n",
       "                                                                                                                   title_tokenized  \n",
       "0                                                      [json, a, python, dict, that, has, a, polars, df, for, one, or, more, keys]  \n",
       "1                                                                  [python, how, to, remove, brackets, and, from, csvreader, list]  \n",
       "2                                           [input, in, python, with, support, of, empty, lines, and, check, of, in, the, console]  \n",
       "3                                                                                               [streamlit, text, color, in, menu]  \n",
       "4                                                                             [nonetype, is, not, subscriptable, in, linked, list]  \n",
       "...                                                                                                                            ...  \n",
       "129443                                                      [recursive, implementation, of, greatest, common, divisor, in, python]  \n",
       "129444                                                                            [speeding, up, this, code, trillion, for, loops]  \n",
       "129445                                          [how, to, make, inner, object, in, object, using, recursive, code, in, javascript]  \n",
       "129446  [find, two, element, a, and, b, from, set, a, and, b, such, that, on, swapping, these, elements, sum, of, sets, is, equal]  \n",
       "129447                                                            [how, exactly, were, all, the, round, constants, for, generated]  \n",
       "\n",
       "[129448 rows x 5 columns]"
      ]
     },
     "execution_count": 59,
     "metadata": {},
     "output_type": "execute_result"
    }
   ],
   "source": [
    "df"
   ]
  },
  {
   "cell_type": "code",
   "execution_count": 60,
   "metadata": {},
   "outputs": [],
   "source": [
    "X = hstack([x_title])\n",
    "y = df[[\"tags\"]]"
   ]
  },
  {
   "cell_type": "code",
   "execution_count": 61,
   "metadata": {},
   "outputs": [
    {
     "data": {
      "text/html": [
       "<div>\n",
       "<style scoped>\n",
       "    .dataframe tbody tr th:only-of-type {\n",
       "        vertical-align: middle;\n",
       "    }\n",
       "\n",
       "    .dataframe tbody tr th {\n",
       "        vertical-align: top;\n",
       "    }\n",
       "\n",
       "    .dataframe thead th {\n",
       "        text-align: right;\n",
       "    }\n",
       "</style>\n",
       "<table border=\"1\" class=\"dataframe\">\n",
       "  <thead>\n",
       "    <tr style=\"text-align: right;\">\n",
       "      <th></th>\n",
       "      <th>tags</th>\n",
       "    </tr>\n",
       "  </thead>\n",
       "  <tbody>\n",
       "    <tr>\n",
       "      <th>0</th>\n",
       "      <td>[json, python-polars]</td>\n",
       "    </tr>\n",
       "    <tr>\n",
       "      <th>1</th>\n",
       "      <td>[python]</td>\n",
       "    </tr>\n",
       "    <tr>\n",
       "      <th>2</th>\n",
       "      <td>[python, string, input]</td>\n",
       "    </tr>\n",
       "    <tr>\n",
       "      <th>3</th>\n",
       "      <td>[python, streamlit]</td>\n",
       "    </tr>\n",
       "    <tr>\n",
       "      <th>4</th>\n",
       "      <td>[python, linked-list]</td>\n",
       "    </tr>\n",
       "    <tr>\n",
       "      <th>...</th>\n",
       "      <td>...</td>\n",
       "    </tr>\n",
       "    <tr>\n",
       "      <th>129443</th>\n",
       "      <td>[python, algorithm]</td>\n",
       "    </tr>\n",
       "    <tr>\n",
       "      <th>129444</th>\n",
       "      <td>[c#, algorithmic-trading]</td>\n",
       "    </tr>\n",
       "    <tr>\n",
       "      <th>129445</th>\n",
       "      <td>[javascript, algorithm, recursion]</td>\n",
       "    </tr>\n",
       "    <tr>\n",
       "      <th>129446</th>\n",
       "      <td>[algorithm, math]</td>\n",
       "    </tr>\n",
       "    <tr>\n",
       "      <th>129447</th>\n",
       "      <td>[javascript, algorithm, bit-manipulation]</td>\n",
       "    </tr>\n",
       "  </tbody>\n",
       "</table>\n",
       "<p>129448 rows × 1 columns</p>\n",
       "</div>"
      ],
      "text/plain": [
       "                                             tags\n",
       "0                           [json, python-polars]\n",
       "1                                        [python]\n",
       "2                         [python, string, input]\n",
       "3                             [python, streamlit]\n",
       "4                           [python, linked-list]\n",
       "...                                           ...\n",
       "129443                        [python, algorithm]\n",
       "129444                  [c#, algorithmic-trading]\n",
       "129445         [javascript, algorithm, recursion]\n",
       "129446                          [algorithm, math]\n",
       "129447  [javascript, algorithm, bit-manipulation]\n",
       "\n",
       "[129448 rows x 1 columns]"
      ]
     },
     "execution_count": 61,
     "metadata": {},
     "output_type": "execute_result"
    }
   ],
   "source": [
    "y"
   ]
  },
  {
   "cell_type": "code",
   "execution_count": 62,
   "metadata": {},
   "outputs": [
    {
     "data": {
      "text/plain": [
       "(129448, 1)"
      ]
     },
     "execution_count": 62,
     "metadata": {},
     "output_type": "execute_result"
    }
   ],
   "source": [
    "y.shape"
   ]
  },
  {
   "cell_type": "markdown",
   "metadata": {},
   "source": [
    "### MultiLabelBinarizer for Converting Tags to Binary Matrix"
   ]
  },
  {
   "cell_type": "code",
   "execution_count": 63,
   "metadata": {},
   "outputs": [],
   "source": [
    "from sklearn.preprocessing import MultiLabelBinarizer\n",
    "\n",
    "# Initialize the MultiLabelBinarizer\n",
    "multi_label_binarizer = MultiLabelBinarizer()\n",
    "\n",
    "# Transform the list of tags into a binary matrix\n",
    "# 'y[\"tags\"]' should be a list-like structure where each element is a list of tags for a particular instance\n",
    "y = multi_label_binarizer.fit_transform(y[\"tags\"])"
   ]
  },
  {
   "cell_type": "code",
   "execution_count": 64,
   "metadata": {},
   "outputs": [
    {
     "data": {
      "text/plain": [
       "(129448, 1350)"
      ]
     },
     "execution_count": 64,
     "metadata": {},
     "output_type": "execute_result"
    }
   ],
   "source": [
    "y.shape"
   ]
  },
  {
   "cell_type": "markdown",
   "metadata": {},
   "source": [
    "## Train-test split"
   ]
  },
  {
   "cell_type": "code",
   "execution_count": 65,
   "metadata": {},
   "outputs": [],
   "source": [
    "# Train test split\n",
    "X_train, X_test, y_train, y_test = train_test_split(X, y, test_size=0.2)\n"
   ]
  },
  {
   "cell_type": "code",
   "execution_count": 66,
   "metadata": {},
   "outputs": [
    {
     "data": {
      "text/plain": [
       "['y_classes.pickle']"
      ]
     },
     "execution_count": 66,
     "metadata": {},
     "output_type": "execute_result"
    }
   ],
   "source": [
    "y_classes = multi_label_binarizer.classes_\n",
    "joblib.dump(y_classes, 'y_classes.pickle')"
   ]
  },
  {
   "cell_type": "code",
   "execution_count": 67,
   "metadata": {},
   "outputs": [
    {
     "data": {
      "text/plain": [
       "(103558, 10000)"
      ]
     },
     "execution_count": 67,
     "metadata": {},
     "output_type": "execute_result"
    }
   ],
   "source": [
    "X_train.shape"
   ]
  },
  {
   "cell_type": "markdown",
   "metadata": {},
   "source": [
    "## Model building and training"
   ]
  },
  {
   "cell_type": "code",
   "execution_count": 68,
   "metadata": {},
   "outputs": [
    {
     "name": "stdout",
     "output_type": "stream",
     "text": [
      "CPU times: total: 5min 30s\n",
      "Wall time: 3min 33s\n"
     ]
    },
    {
     "data": {
      "text/html": [
       "<style>#sk-container-id-1 {color: black;}#sk-container-id-1 pre{padding: 0;}#sk-container-id-1 div.sk-toggleable {background-color: white;}#sk-container-id-1 label.sk-toggleable__label {cursor: pointer;display: block;width: 100%;margin-bottom: 0;padding: 0.3em;box-sizing: border-box;text-align: center;}#sk-container-id-1 label.sk-toggleable__label-arrow:before {content: \"▸\";float: left;margin-right: 0.25em;color: #696969;}#sk-container-id-1 label.sk-toggleable__label-arrow:hover:before {color: black;}#sk-container-id-1 div.sk-estimator:hover label.sk-toggleable__label-arrow:before {color: black;}#sk-container-id-1 div.sk-toggleable__content {max-height: 0;max-width: 0;overflow: hidden;text-align: left;background-color: #f0f8ff;}#sk-container-id-1 div.sk-toggleable__content pre {margin: 0.2em;color: black;border-radius: 0.25em;background-color: #f0f8ff;}#sk-container-id-1 input.sk-toggleable__control:checked~div.sk-toggleable__content {max-height: 200px;max-width: 100%;overflow: auto;}#sk-container-id-1 input.sk-toggleable__control:checked~label.sk-toggleable__label-arrow:before {content: \"▾\";}#sk-container-id-1 div.sk-estimator input.sk-toggleable__control:checked~label.sk-toggleable__label {background-color: #d4ebff;}#sk-container-id-1 div.sk-label input.sk-toggleable__control:checked~label.sk-toggleable__label {background-color: #d4ebff;}#sk-container-id-1 input.sk-hidden--visually {border: 0;clip: rect(1px 1px 1px 1px);clip: rect(1px, 1px, 1px, 1px);height: 1px;margin: -1px;overflow: hidden;padding: 0;position: absolute;width: 1px;}#sk-container-id-1 div.sk-estimator {font-family: monospace;background-color: #f0f8ff;border: 1px dotted black;border-radius: 0.25em;box-sizing: border-box;margin-bottom: 0.5em;}#sk-container-id-1 div.sk-estimator:hover {background-color: #d4ebff;}#sk-container-id-1 div.sk-parallel-item::after {content: \"\";width: 100%;border-bottom: 1px solid gray;flex-grow: 1;}#sk-container-id-1 div.sk-label:hover label.sk-toggleable__label {background-color: #d4ebff;}#sk-container-id-1 div.sk-serial::before {content: \"\";position: absolute;border-left: 1px solid gray;box-sizing: border-box;top: 0;bottom: 0;left: 50%;z-index: 0;}#sk-container-id-1 div.sk-serial {display: flex;flex-direction: column;align-items: center;background-color: white;padding-right: 0.2em;padding-left: 0.2em;position: relative;}#sk-container-id-1 div.sk-item {position: relative;z-index: 1;}#sk-container-id-1 div.sk-parallel {display: flex;align-items: stretch;justify-content: center;background-color: white;position: relative;}#sk-container-id-1 div.sk-item::before, #sk-container-id-1 div.sk-parallel-item::before {content: \"\";position: absolute;border-left: 1px solid gray;box-sizing: border-box;top: 0;bottom: 0;left: 50%;z-index: -1;}#sk-container-id-1 div.sk-parallel-item {display: flex;flex-direction: column;z-index: 1;position: relative;background-color: white;}#sk-container-id-1 div.sk-parallel-item:first-child::after {align-self: flex-end;width: 50%;}#sk-container-id-1 div.sk-parallel-item:last-child::after {align-self: flex-start;width: 50%;}#sk-container-id-1 div.sk-parallel-item:only-child::after {width: 0;}#sk-container-id-1 div.sk-dashed-wrapped {border: 1px dashed gray;margin: 0 0.4em 0.5em 0.4em;box-sizing: border-box;padding-bottom: 0.4em;background-color: white;}#sk-container-id-1 div.sk-label label {font-family: monospace;font-weight: bold;display: inline-block;line-height: 1.2em;}#sk-container-id-1 div.sk-label-container {text-align: center;}#sk-container-id-1 div.sk-container {/* jupyter's `normalize.less` sets `[hidden] { display: none; }` but bootstrap.min.css set `[hidden] { display: none !important; }` so we also need the `!important` here to be able to override the default hidden behavior on the sphinx rendered scikit-learn.org. See: https://github.com/scikit-learn/scikit-learn/issues/21755 */display: inline-block !important;position: relative;}#sk-container-id-1 div.sk-text-repr-fallback {display: none;}</style><div id=\"sk-container-id-1\" class=\"sk-top-container\"><div class=\"sk-text-repr-fallback\"><pre>OneVsRestClassifier(estimator=SGDClassifier(n_jobs=-1))</pre><b>In a Jupyter environment, please rerun this cell to show the HTML representation or trust the notebook. <br />On GitHub, the HTML representation is unable to render, please try loading this page with nbviewer.org.</b></div><div class=\"sk-container\" hidden><div class=\"sk-item sk-dashed-wrapped\"><div class=\"sk-label-container\"><div class=\"sk-label sk-toggleable\"><input class=\"sk-toggleable__control sk-hidden--visually\" id=\"sk-estimator-id-1\" type=\"checkbox\" ><label for=\"sk-estimator-id-1\" class=\"sk-toggleable__label sk-toggleable__label-arrow\">OneVsRestClassifier</label><div class=\"sk-toggleable__content\"><pre>OneVsRestClassifier(estimator=SGDClassifier(n_jobs=-1))</pre></div></div></div><div class=\"sk-parallel\"><div class=\"sk-parallel-item\"><div class=\"sk-item\"><div class=\"sk-label-container\"><div class=\"sk-label sk-toggleable\"><input class=\"sk-toggleable__control sk-hidden--visually\" id=\"sk-estimator-id-2\" type=\"checkbox\" ><label for=\"sk-estimator-id-2\" class=\"sk-toggleable__label sk-toggleable__label-arrow\">estimator: SGDClassifier</label><div class=\"sk-toggleable__content\"><pre>SGDClassifier(n_jobs=-1)</pre></div></div></div><div class=\"sk-serial\"><div class=\"sk-item\"><div class=\"sk-estimator sk-toggleable\"><input class=\"sk-toggleable__control sk-hidden--visually\" id=\"sk-estimator-id-3\" type=\"checkbox\" ><label for=\"sk-estimator-id-3\" class=\"sk-toggleable__label sk-toggleable__label-arrow\">SGDClassifier</label><div class=\"sk-toggleable__content\"><pre>SGDClassifier(n_jobs=-1)</pre></div></div></div></div></div></div></div></div></div></div>"
      ],
      "text/plain": [
       "OneVsRestClassifier(estimator=SGDClassifier(n_jobs=-1))"
      ]
     },
     "execution_count": 68,
     "metadata": {},
     "output_type": "execute_result"
    }
   ],
   "source": [
    "%%time\n",
    "\n",
    "from sklearn.multiclass import OneVsRestClassifier\n",
    "from sklearn.linear_model import SGDClassifier\n",
    "\n",
    "sgd_classifier = SGDClassifier(n_jobs=-1)\n",
    "\n",
    "clf = OneVsRestClassifier(sgd_classifier)\n",
    "clf.fit(X_train, y_train)"
   ]
  },
  {
   "cell_type": "code",
   "execution_count": 69,
   "metadata": {},
   "outputs": [
    {
     "data": {
      "text/plain": [
       "['sgd_classifier.pkl']"
      ]
     },
     "execution_count": 69,
     "metadata": {},
     "output_type": "execute_result"
    }
   ],
   "source": [
    "joblib.dump(clf, \"sgd_classifier.pkl\")"
   ]
  },
  {
   "cell_type": "code",
   "execution_count": 70,
   "metadata": {},
   "outputs": [],
   "source": [
    "# %%time\n",
    "# import json\n",
    "\n",
    "# from sklearn.multiclass import OneVsRestClassifier\n",
    "# from sklearn.linear_model import SGDClassifier, LogisticRegression\n",
    "# from sklearn.ensemble import RandomForestClassifier\n",
    "\n",
    "# rf_classifier = RandomForestClassifier(n_jobs=-1)\n",
    "\n",
    "# rf_clf = OneVsRestClassifier(rf_classifier)\n",
    "# rf_clf.fit(X_train, y_train)"
   ]
  },
  {
   "cell_type": "code",
   "execution_count": 71,
   "metadata": {},
   "outputs": [],
   "source": [
    "# import joblib\n",
    "# joblib.dump(rf_clf, \"one_vs_rest_classifier.pkl\")"
   ]
  },
  {
   "cell_type": "code",
   "execution_count": 72,
   "metadata": {},
   "outputs": [
    {
     "data": {
      "text/plain": [
       "(103558, 1350)"
      ]
     },
     "execution_count": 72,
     "metadata": {},
     "output_type": "execute_result"
    }
   ],
   "source": [
    "y_train.shape"
   ]
  },
  {
   "cell_type": "code",
   "execution_count": null,
   "metadata": {},
   "outputs": [],
   "source": []
  },
  {
   "cell_type": "code",
   "execution_count": 73,
   "metadata": {},
   "outputs": [
    {
     "data": {
      "text/plain": [
       "(25890, 10000)"
      ]
     },
     "execution_count": 73,
     "metadata": {},
     "output_type": "execute_result"
    }
   ],
   "source": [
    "X_test.shape"
   ]
  },
  {
   "cell_type": "code",
   "execution_count": 74,
   "metadata": {},
   "outputs": [],
   "source": [
    "y_pred = clf.predict(X_test)"
   ]
  },
  {
   "cell_type": "code",
   "execution_count": 75,
   "metadata": {},
   "outputs": [
    {
     "name": "stdout",
     "output_type": "stream",
     "text": [
      "precision: [0. 0. 0. ... 0. 0. 0.]\n",
      "recall: [0. 0. 0. ... 0. 0. 0.]\n",
      "fscore: [0. 0. 0. ... 0. 0. 0.]\n",
      "support: [28 41 37 ... 11  4  2]\n",
      "CPU times: total: 859 ms\n",
      "Wall time: 3.6 s\n"
     ]
    },
    {
     "name": "stderr",
     "output_type": "stream",
     "text": [
      "c:\\Users\\naren\\anaconda3\\envs\\sharp\\lib\\site-packages\\sklearn\\metrics\\_classification.py:1469: UndefinedMetricWarning: Precision and F-score are ill-defined and being set to 0.0 in labels with no predicted samples. Use `zero_division` parameter to control this behavior.\n",
      "  _warn_prf(average, modifier, msg_start, len(result))\n",
      "c:\\Users\\naren\\anaconda3\\envs\\sharp\\lib\\site-packages\\sklearn\\metrics\\_classification.py:1469: UndefinedMetricWarning: Recall and F-score are ill-defined and being set to 0.0 in labels with no true samples. Use `zero_division` parameter to control this behavior.\n",
      "  _warn_prf(average, modifier, msg_start, len(result))\n"
     ]
    }
   ],
   "source": [
    "%%time\n",
    "\n",
    "from sklearn.metrics import precision_recall_fscore_support as score\n",
    "\n",
    "precision, recall, fscore, support = score(y_test, y_pred)\n",
    "\n",
    "print(f\"precision: {precision}\")\n",
    "print(f\"recall: {recall}\")\n",
    "print(f\"fscore: {fscore}\")\n",
    "print(f\"support: {support}\")"
   ]
  },
  {
   "cell_type": "code",
   "execution_count": 76,
   "metadata": {},
   "outputs": [],
   "source": [
    "from sklearn.metrics import hamming_loss\n",
    "\n",
    "hamming = []\n",
    "\n",
    "for i, (test, pred) in enumerate(zip(y_test.T, y_pred.T)):\n",
    "    hamming.append(hamming_loss(test, pred))"
   ]
  },
  {
   "cell_type": "code",
   "execution_count": 77,
   "metadata": {},
   "outputs": [],
   "source": [
    "metric_df = pd.DataFrame(data=[precision, recall, fscore, hamming, support],\n",
    "                         index=[\"Precision\", \"Recall\", \"F-1 score\", \"Hamming loss\", \"True count\"],\n",
    "                         columns=y_classes)"
   ]
  },
  {
   "cell_type": "code",
   "execution_count": 78,
   "metadata": {},
   "outputs": [
    {
     "data": {
      "text/html": [
       "<div>\n",
       "<style scoped>\n",
       "    .dataframe tbody tr th:only-of-type {\n",
       "        vertical-align: middle;\n",
       "    }\n",
       "\n",
       "    .dataframe tbody tr th {\n",
       "        vertical-align: top;\n",
       "    }\n",
       "\n",
       "    .dataframe thead th {\n",
       "        text-align: right;\n",
       "    }\n",
       "</style>\n",
       "<table border=\"1\" class=\"dataframe\">\n",
       "  <thead>\n",
       "    <tr style=\"text-align: right;\">\n",
       "      <th></th>\n",
       "      <th>2d</th>\n",
       "      <th>3d</th>\n",
       "      <th>a-star</th>\n",
       "      <th>abstract-data-type</th>\n",
       "      <th>abstract-syntax-tree</th>\n",
       "      <th>adafruit-circuitpython</th>\n",
       "      <th>adjacency-list</th>\n",
       "      <th>adjacency-matrix</th>\n",
       "      <th>aes</th>\n",
       "      <th>aiogram</th>\n",
       "      <th>...</th>\n",
       "      <th>xor</th>\n",
       "      <th>xpath</th>\n",
       "      <th>yaml</th>\n",
       "      <th>yfinance</th>\n",
       "      <th>yolo</th>\n",
       "      <th>yolov5</th>\n",
       "      <th>yolov8</th>\n",
       "      <th>youtube</th>\n",
       "      <th>youtube-api</th>\n",
       "      <th>zip</th>\n",
       "    </tr>\n",
       "  </thead>\n",
       "  <tbody>\n",
       "    <tr>\n",
       "      <th>Precision</th>\n",
       "      <td>0.00%</td>\n",
       "      <td>0.00%</td>\n",
       "      <td>0.00%</td>\n",
       "      <td>0.00%</td>\n",
       "      <td>0.00%</td>\n",
       "      <td>0.00%</td>\n",
       "      <td>0.00%</td>\n",
       "      <td>0.00%</td>\n",
       "      <td>0.00%</td>\n",
       "      <td>1.00%</td>\n",
       "      <td>...</td>\n",
       "      <td>0.00%</td>\n",
       "      <td>0.00%</td>\n",
       "      <td>0.64%</td>\n",
       "      <td>1.00%</td>\n",
       "      <td>0.00%</td>\n",
       "      <td>0.00%</td>\n",
       "      <td>0.00%</td>\n",
       "      <td>0.00%</td>\n",
       "      <td>0.00%</td>\n",
       "      <td>0.00%</td>\n",
       "    </tr>\n",
       "    <tr>\n",
       "      <th>Recall</th>\n",
       "      <td>0.00%</td>\n",
       "      <td>0.00%</td>\n",
       "      <td>0.00%</td>\n",
       "      <td>0.00%</td>\n",
       "      <td>0.00%</td>\n",
       "      <td>0.00%</td>\n",
       "      <td>0.00%</td>\n",
       "      <td>0.00%</td>\n",
       "      <td>0.00%</td>\n",
       "      <td>0.52%</td>\n",
       "      <td>...</td>\n",
       "      <td>0.00%</td>\n",
       "      <td>0.00%</td>\n",
       "      <td>0.78%</td>\n",
       "      <td>0.36%</td>\n",
       "      <td>0.00%</td>\n",
       "      <td>0.00%</td>\n",
       "      <td>0.00%</td>\n",
       "      <td>0.00%</td>\n",
       "      <td>0.00%</td>\n",
       "      <td>0.00%</td>\n",
       "    </tr>\n",
       "    <tr>\n",
       "      <th>F-1 score</th>\n",
       "      <td>0.00%</td>\n",
       "      <td>0.00%</td>\n",
       "      <td>0.00%</td>\n",
       "      <td>0.00%</td>\n",
       "      <td>0.00%</td>\n",
       "      <td>0.00%</td>\n",
       "      <td>0.00%</td>\n",
       "      <td>0.00%</td>\n",
       "      <td>0.00%</td>\n",
       "      <td>0.69%</td>\n",
       "      <td>...</td>\n",
       "      <td>0.00%</td>\n",
       "      <td>0.00%</td>\n",
       "      <td>0.70%</td>\n",
       "      <td>0.53%</td>\n",
       "      <td>0.00%</td>\n",
       "      <td>0.00%</td>\n",
       "      <td>0.00%</td>\n",
       "      <td>0.00%</td>\n",
       "      <td>0.00%</td>\n",
       "      <td>0.00%</td>\n",
       "    </tr>\n",
       "    <tr>\n",
       "      <th>Hamming loss</th>\n",
       "      <td>0.00%</td>\n",
       "      <td>0.00%</td>\n",
       "      <td>0.00%</td>\n",
       "      <td>0.00%</td>\n",
       "      <td>0.00%</td>\n",
       "      <td>0.00%</td>\n",
       "      <td>0.00%</td>\n",
       "      <td>0.00%</td>\n",
       "      <td>0.00%</td>\n",
       "      <td>0.00%</td>\n",
       "      <td>...</td>\n",
       "      <td>0.00%</td>\n",
       "      <td>0.00%</td>\n",
       "      <td>0.00%</td>\n",
       "      <td>0.00%</td>\n",
       "      <td>0.00%</td>\n",
       "      <td>0.00%</td>\n",
       "      <td>0.00%</td>\n",
       "      <td>0.00%</td>\n",
       "      <td>0.00%</td>\n",
       "      <td>0.00%</td>\n",
       "    </tr>\n",
       "    <tr>\n",
       "      <th>True count</th>\n",
       "      <td>28.00%</td>\n",
       "      <td>41.00%</td>\n",
       "      <td>37.00%</td>\n",
       "      <td>15.00%</td>\n",
       "      <td>11.00%</td>\n",
       "      <td>6.00%</td>\n",
       "      <td>18.00%</td>\n",
       "      <td>15.00%</td>\n",
       "      <td>5.00%</td>\n",
       "      <td>23.00%</td>\n",
       "      <td>...</td>\n",
       "      <td>11.00%</td>\n",
       "      <td>21.00%</td>\n",
       "      <td>9.00%</td>\n",
       "      <td>11.00%</td>\n",
       "      <td>17.00%</td>\n",
       "      <td>6.00%</td>\n",
       "      <td>18.00%</td>\n",
       "      <td>11.00%</td>\n",
       "      <td>4.00%</td>\n",
       "      <td>2.00%</td>\n",
       "    </tr>\n",
       "  </tbody>\n",
       "</table>\n",
       "<p>5 rows × 1350 columns</p>\n",
       "</div>"
      ],
      "text/plain": [
       "                 2d     3d  a-star  abstract-data-type  abstract-syntax-tree  \\\n",
       "Precision     0.00%  0.00%   0.00%               0.00%                 0.00%   \n",
       "Recall        0.00%  0.00%   0.00%               0.00%                 0.00%   \n",
       "F-1 score     0.00%  0.00%   0.00%               0.00%                 0.00%   \n",
       "Hamming loss  0.00%  0.00%   0.00%               0.00%                 0.00%   \n",
       "True count   28.00% 41.00%  37.00%              15.00%                11.00%   \n",
       "\n",
       "              adafruit-circuitpython  adjacency-list  adjacency-matrix   aes  \\\n",
       "Precision                      0.00%           0.00%             0.00% 0.00%   \n",
       "Recall                         0.00%           0.00%             0.00% 0.00%   \n",
       "F-1 score                      0.00%           0.00%             0.00% 0.00%   \n",
       "Hamming loss                   0.00%           0.00%             0.00% 0.00%   \n",
       "True count                     6.00%          18.00%            15.00% 5.00%   \n",
       "\n",
       "              aiogram  ...    xor  xpath  yaml  yfinance   yolo  yolov5  \\\n",
       "Precision       1.00%  ...  0.00%  0.00% 0.64%     1.00%  0.00%   0.00%   \n",
       "Recall          0.52%  ...  0.00%  0.00% 0.78%     0.36%  0.00%   0.00%   \n",
       "F-1 score       0.69%  ...  0.00%  0.00% 0.70%     0.53%  0.00%   0.00%   \n",
       "Hamming loss    0.00%  ...  0.00%  0.00% 0.00%     0.00%  0.00%   0.00%   \n",
       "True count     23.00%  ... 11.00% 21.00% 9.00%    11.00% 17.00%   6.00%   \n",
       "\n",
       "              yolov8  youtube  youtube-api   zip  \n",
       "Precision      0.00%    0.00%        0.00% 0.00%  \n",
       "Recall         0.00%    0.00%        0.00% 0.00%  \n",
       "F-1 score      0.00%    0.00%        0.00% 0.00%  \n",
       "Hamming loss   0.00%    0.00%        0.00% 0.00%  \n",
       "True count    18.00%   11.00%        4.00% 2.00%  \n",
       "\n",
       "[5 rows x 1350 columns]"
      ]
     },
     "execution_count": 78,
     "metadata": {},
     "output_type": "execute_result"
    }
   ],
   "source": [
    "metric_df"
   ]
  },
  {
   "cell_type": "code",
   "execution_count": 79,
   "metadata": {},
   "outputs": [
    {
     "data": {
      "text/html": [
       "<div>\n",
       "<style scoped>\n",
       "    .dataframe tbody tr th:only-of-type {\n",
       "        vertical-align: middle;\n",
       "    }\n",
       "\n",
       "    .dataframe tbody tr th {\n",
       "        vertical-align: top;\n",
       "    }\n",
       "\n",
       "    .dataframe thead th {\n",
       "        text-align: right;\n",
       "    }\n",
       "</style>\n",
       "<table border=\"1\" class=\"dataframe\">\n",
       "  <thead>\n",
       "    <tr style=\"text-align: right;\">\n",
       "      <th></th>\n",
       "      <th>python</th>\n",
       "      <th>algorithm</th>\n",
       "      <th>data-structures</th>\n",
       "      <th>python-3.x</th>\n",
       "      <th>list</th>\n",
       "      <th>sorting</th>\n",
       "      <th>recursion</th>\n",
       "      <th>numpy</th>\n",
       "      <th>arrays</th>\n",
       "      <th>dictionary</th>\n",
       "    </tr>\n",
       "  </thead>\n",
       "  <tbody>\n",
       "    <tr>\n",
       "      <th>Precision</th>\n",
       "      <td>0.86%</td>\n",
       "      <td>0.83%</td>\n",
       "      <td>0.84%</td>\n",
       "      <td>0.00%</td>\n",
       "      <td>0.00%</td>\n",
       "      <td>0.65%</td>\n",
       "      <td>0.59%</td>\n",
       "      <td>0.88%</td>\n",
       "      <td>0.74%</td>\n",
       "      <td>0.54%</td>\n",
       "    </tr>\n",
       "    <tr>\n",
       "      <th>Recall</th>\n",
       "      <td>0.79%</td>\n",
       "      <td>0.74%</td>\n",
       "      <td>0.56%</td>\n",
       "      <td>0.00%</td>\n",
       "      <td>0.00%</td>\n",
       "      <td>0.47%</td>\n",
       "      <td>0.48%</td>\n",
       "      <td>0.31%</td>\n",
       "      <td>0.02%</td>\n",
       "      <td>0.31%</td>\n",
       "    </tr>\n",
       "    <tr>\n",
       "      <th>F-1 score</th>\n",
       "      <td>0.83%</td>\n",
       "      <td>0.78%</td>\n",
       "      <td>0.67%</td>\n",
       "      <td>0.00%</td>\n",
       "      <td>0.00%</td>\n",
       "      <td>0.55%</td>\n",
       "      <td>0.53%</td>\n",
       "      <td>0.46%</td>\n",
       "      <td>0.04%</td>\n",
       "      <td>0.40%</td>\n",
       "    </tr>\n",
       "    <tr>\n",
       "      <th>Hamming loss</th>\n",
       "      <td>0.15%</td>\n",
       "      <td>0.16%</td>\n",
       "      <td>0.14%</td>\n",
       "      <td>0.06%</td>\n",
       "      <td>0.02%</td>\n",
       "      <td>0.03%</td>\n",
       "      <td>0.02%</td>\n",
       "      <td>0.01%</td>\n",
       "      <td>0.05%</td>\n",
       "      <td>0.01%</td>\n",
       "    </tr>\n",
       "    <tr>\n",
       "      <th>True count</th>\n",
       "      <td>11647.00%</td>\n",
       "      <td>10253.00%</td>\n",
       "      <td>6842.00%</td>\n",
       "      <td>1428.00%</td>\n",
       "      <td>467.00%</td>\n",
       "      <td>865.00%</td>\n",
       "      <td>541.00%</td>\n",
       "      <td>430.00%</td>\n",
       "      <td>1281.00%</td>\n",
       "      <td>289.00%</td>\n",
       "    </tr>\n",
       "  </tbody>\n",
       "</table>\n",
       "</div>"
      ],
      "text/plain": [
       "                python  algorithm  data-structures  python-3.x    list  \\\n",
       "Precision        0.86%      0.83%            0.84%       0.00%   0.00%   \n",
       "Recall           0.79%      0.74%            0.56%       0.00%   0.00%   \n",
       "F-1 score        0.83%      0.78%            0.67%       0.00%   0.00%   \n",
       "Hamming loss     0.15%      0.16%            0.14%       0.06%   0.02%   \n",
       "True count   11647.00%  10253.00%         6842.00%    1428.00% 467.00%   \n",
       "\n",
       "              sorting  recursion   numpy   arrays  dictionary  \n",
       "Precision       0.65%      0.59%   0.88%    0.74%       0.54%  \n",
       "Recall          0.47%      0.48%   0.31%    0.02%       0.31%  \n",
       "F-1 score       0.55%      0.53%   0.46%    0.04%       0.40%  \n",
       "Hamming loss    0.03%      0.02%   0.01%    0.05%       0.01%  \n",
       "True count    865.00%    541.00% 430.00% 1281.00%     289.00%  "
      ]
     },
     "execution_count": 79,
     "metadata": {},
     "output_type": "execute_result"
    }
   ],
   "source": [
    "top_ten_tags_list = [\n",
    "    'python',\n",
    "    'algorithm',\n",
    "    'data-structures',\n",
    "    'python-3.x',\n",
    "    'list',\n",
    "    'sorting',\n",
    "    'recursion',\n",
    "    'numpy',\n",
    "    'arrays',\n",
    "    'dictionary'\n",
    "]\n",
    "\n",
    "metric_df[top_ten_tags_list]"
   ]
  },
  {
   "cell_type": "code",
   "execution_count": 25,
   "metadata": {},
   "outputs": [
    {
     "ename": "NameError",
     "evalue": "name 'metric_df' is not defined",
     "output_type": "error",
     "traceback": [
      "\u001b[1;31m---------------------------------------------------------------------------\u001b[0m",
      "\u001b[1;31mNameError\u001b[0m                                 Traceback (most recent call last)",
      "Cell \u001b[1;32mIn[25], line 2\u001b[0m\n\u001b[0;32m      1\u001b[0m \u001b[38;5;28;01mimport\u001b[39;00m \u001b[38;5;21;01mnumpy\u001b[39;00m \u001b[38;5;28;01mas\u001b[39;00m \u001b[38;5;21;01mnp\u001b[39;00m\n\u001b[1;32m----> 2\u001b[0m \u001b[43mmetric_df\u001b[49m[top_ten_tags_list]\u001b[38;5;241m.\u001b[39mapply(np\u001b[38;5;241m.\u001b[39mmean, axis\u001b[38;5;241m=\u001b[39m\u001b[38;5;241m1\u001b[39m)\n",
      "\u001b[1;31mNameError\u001b[0m: name 'metric_df' is not defined"
     ]
    }
   ],
   "source": [
    "import numpy as np\n",
    "metric_df[top_ten_tags_list].apply(np.mean, axis=1)"
   ]
  },
  {
   "cell_type": "code",
   "execution_count": 177,
   "metadata": {},
   "outputs": [
    {
     "data": {
      "text/plain": [
       "Text(0, 0.5, 'Recall')"
      ]
     },
     "execution_count": 177,
     "metadata": {},
     "output_type": "execute_result"
    },
    {
     "data": {
      "image/png": "[encoded data removed]",
      "text/plain": [
       "<Figure size 640x480 with 1 Axes>"
      ]
     },
     "metadata": {},
     "output_type": "display_data"
    }
   ],
   "source": [
    "import seaborn as sns\n",
    "import matplotlib.pyplot as plt\n",
    "\n",
    "sns.scatterplot(x=metric_df.loc[\"Precision\"], y=metric_df.loc[\"Recall\"])\n",
    "plt.title(\"All tags\")\n",
    "plt.xlabel(\"Precision\")\n",
    "plt.ylabel(\"Recall\")"
   ]
  },
  {
   "cell_type": "code",
   "execution_count": 178,
   "metadata": {},
   "outputs": [
    {
     "name": "stdout",
     "output_type": "stream",
     "text": [
      "Prediction:\n",
      "python    1\n",
      "dtype: int64\n",
      "\n",
      "Actual:\n",
      "python     1\n",
      "youtube    1\n",
      "dtype: int64\n"
     ]
    }
   ],
   "source": [
    "def print_pred_test_n(pred, test, n):\n",
    "    pred_n = pd.DataFrame(y_pred[n:n+1], columns=y_classes)\n",
    "    pred_n = pred_n.sum()\n",
    "    print(\"Prediction:\")\n",
    "    print(pred_n[pred_n.values > 0])\n",
    "    \n",
    "    test_n = pd.DataFrame(y_test[n:n+1], columns=y_classes)\n",
    "    test_n = test_n.sum()\n",
    "    print(\"\\nActual:\")\n",
    "    print(test_n[test_n.values > 0])\n",
    "    \n",
    "print_pred_test_n(y_pred, y_test, 150)"
   ]
  },
  {
   "cell_type": "code",
   "execution_count": 179,
   "metadata": {},
   "outputs": [],
   "source": [
    "import joblib\n",
    "import nltk\n",
    "import pandas as pd\n",
    "\n",
    "vectorizer = joblib.load(\"tfidf_vectorizer.pkl\")\n",
    "# clf = joblib.load(\"one_vs_rest_classifier.pkl\")\n",
    "\n",
    "def dummy_tokenizer(doc):\n",
    "    return doc\n",
    "\n",
    "def predict_tags(question):\n",
    "    # Load the saved vectorizer and classifier\n",
    "\n",
    "    y_classes = joblib.load(\"y_classes.pickle\")\n",
    "    \n",
    "    topics_with_symbols = [\"c#\", \"c++\", \".net\", \"asp.net\", \"node.js\", \"objective-c\", \"unity3d\", \"html5\", \"css3\", \n",
    "                           \"d3.js\", \"utf-8\", \"neo4j\", \"scikit-learn\", \"f#\", \"3d\", \"x86\"]\n",
    "    \n",
    "    question = question.lower()\n",
    "\n",
    "    # Tokenize the question\n",
    "    tokenized_question = [word for word in nltk.word_tokenize(question) if word.isalpha() or word in list(\"+#\") + topics_with_symbols]\n",
    "\n",
    "    # Transform the tokenized question using the loaded vectorizer\n",
    "    x_title = vectorizer.transform([tokenized_question])\n",
    "\n",
    "    # Predict the tags using the loaded classifier\n",
    "    y_pred = clf.predict(x_title)\n",
    "    print(y_pred)\n",
    "    \n",
    "    return [y_classes[i] for i in range(len(y_classes)) if y_pred[0][i] == 1 ]\n"
   ]
  },
  {
   "cell_type": "markdown",
   "metadata": {},
   "source": [
    "# Building  a Hybrid Model"
   ]
  },
  {
   "cell_type": "code",
   "execution_count": 180,
   "metadata": {},
   "outputs": [
    {
     "name": "stdout",
     "output_type": "stream",
     "text": [
      "CPU times: total: 297 ms\n",
      "Wall time: 848 ms\n"
     ]
    }
   ],
   "source": [
    "%%time\n",
    "import json\n",
    "import re\n",
    "import joblib\n",
    "import nltk\n",
    "from sklearn.feature_extraction.text import TfidfVectorizer\n",
    "from nltk.stem import WordNetLemmatizer\n",
    "\n",
    "lemmatizer = WordNetLemmatizer()\n",
    "\n",
    "def dummy_tokenizer(doc):\n",
    "    return doc\n",
    "\n",
    "# Filters out tags that are substrings of other tags\n",
    "def filter_superstrings(tags):\n",
    "    tags.sort(key=len, reverse=True)\n",
    "    tags = [tag.replace('-', ' ') for tag in tags]\n",
    "    filtered_tags = []\n",
    "    lemmatized_tags = set()\n",
    "    \n",
    "    for tag in tags:\n",
    "        lemma_tag = lemmatizer.lemmatize(tag)\n",
    "        if lemma_tag not in lemmatized_tags:\n",
    "            lemmatized_tags.add(lemma_tag)\n",
    "            filtered_tags.append(tag)\n",
    "    return filtered_tags      \n",
    "\n",
    "\n",
    "clf = joblib.load('sgd_classifier.pkl')\n",
    "y_classes = joblib.load(\"y_classes.pickle\")\n",
    "vectorizer = joblib.load('tfidf_vectorizer.pkl')\n",
    "\n",
    "with open('top_tags.json', 'r') as file:\n",
    "    all_tags = json.load(file)\n",
    "all_tags = sorted(all_tags, key=lambda x: len(x), reverse=True)\n",
    "\n",
    "def hybrid_model_predict(question):\n",
    "    topics_with_symbols = [\"c#\", \"c++\", \".net\", \"asp.net\", \"node.js\", \"objective-c\", \"unity3d\", \"html5\", \"css3\", \n",
    "                           \"d3.js\", \"utf-8\", \"neo4j\", \"scikit-learn\", \"f#\", \"3d\", \"x86\"]\n",
    "    \n",
    "    question = question.lower()\n",
    "    tokenized_question = [word for word in nltk.word_tokenize(question) if word.isalpha() or word in list(\"+#\") + topics_with_symbols]\n",
    "    x_title = vectorizer.transform([' '.join(tokenized_question)])  # Use a space-joined string\n",
    "\n",
    "    y_pred = clf.predict(x_title)\n",
    "    one_vs_rest_predictions = [y_classes[i] for i in range(len(y_classes)) if y_pred[0][i] == 1]\n",
    "\n",
    "    KeyWords = []\n",
    "    if '?' in question:\n",
    "        question = question.replace('?', '')\n",
    "    question = question.lower()\n",
    "\n",
    "    for keyword in all_tags:\n",
    "        pattern = r'\\b' + re.escape(keyword.lower()) + r'\\b'\n",
    "        if re.search(pattern, question):\n",
    "            KeyWords.append(keyword)\n",
    "            question = re.sub(pattern, '', question)\n",
    "\n",
    "    keywords_based_prediction = list(set(KeyWords))\n",
    "    final_prediction = list(set(one_vs_rest_predictions + keywords_based_prediction))\n",
    "    final_prediction = filter_superstrings(final_prediction)\n",
    "    return final_prediction\n",
    "\n"
   ]
  },
  {
   "cell_type": "code",
   "execution_count": 80,
   "metadata": {},
   "outputs": [
    {
     "ename": "NameError",
     "evalue": "name 'hybrid_model_predict' is not defined",
     "output_type": "error",
     "traceback": [
      "\u001b[1;31m---------------------------------------------------------------------------\u001b[0m",
      "\u001b[1;31mNameError\u001b[0m                                 Traceback (most recent call last)",
      "Cell \u001b[1;32mIn[80], line 3\u001b[0m\n\u001b[0;32m      1\u001b[0m \u001b[38;5;66;03m# Example usage\u001b[39;00m\n\u001b[0;32m      2\u001b[0m question \u001b[38;5;241m=\u001b[39m \u001b[38;5;124m\"\u001b[39m\u001b[38;5;124mhow to sort a list of dictionaries by a value of the dictionary in python?\u001b[39m\u001b[38;5;124m\"\u001b[39m\n\u001b[1;32m----> 3\u001b[0m \u001b[43mhybrid_model_predict\u001b[49m(question)\n",
      "\u001b[1;31mNameError\u001b[0m: name 'hybrid_model_predict' is not defined"
     ]
    }
   ],
   "source": [
    "# Example usage\n",
    "question = \"how to sort a list of dictionaries by a value of the dictionary in python?\"\n",
    "hybrid_model_predict(question)\n"
   ]
  },
  {
   "cell_type": "markdown",
   "metadata": {},
   "source": [
    "# SOLO Classification"
   ]
  },
  {
   "cell_type": "markdown",
   "metadata": {},
   "source": [
    "### Key Concepts\n",
    "\n",
    "- **`relation_keywords`**: \n",
    "  - This is a list of tuples representing significant relationships between keywords in the question. \n",
    "  - These relationships are extracted based on dependency parsing, focusing on subjects, objects, and other key grammatical roles.\n",
    "\n",
    "- **`avg_distance`**: \n",
    "  - This is the average of the pairwise distances (cosine similarities) between the embeddings of keywords in the question. \n",
    "  - A lower average distance indicates that the concepts are semantically closer to each other, suggesting better integration.\n",
    "\n",
    "- **`max_distance`**: \n",
    "  - This is the maximum distance between any two keyword embeddings in the question. \n",
    "  - A lower maximum distance indicates that even the most distant concepts in the question are still relatively close, which may suggest a very tight integration of ideas.\n"
   ]
  },
  {
   "cell_type": "markdown",
   "metadata": {},
   "source": [
    "### Thresholds\n",
    "\n",
    "**`strong_threshold`:**\n",
    "- Determines a threshold for strong keyword relationships.\n",
    "- Helps classify questions as \"Relational\" or \"Extended Abstract\".\n",
    "- Example: `strong_threshold = 0.2` indicates strong relationships below this distance.\n",
    "\n",
    "\n",
    "**`weak_threshold`:**\n",
    "- Sets a boundary for weak keyword relationships.\n",
    "- Influences classification towards \"Multi-structural\" if exceeded.\n",
    "- Example: `weak_threshold = 0.4` identifies weak relationships above this distance.\n",
    "\n"
   ]
  },
  {
   "cell_type": "markdown",
   "metadata": {},
   "source": [
    "### Predicting the solo class for each question"
   ]
  },
  {
   "cell_type": "code",
   "execution_count": 182,
   "metadata": {},
   "outputs": [],
   "source": [
    "# Importing necessary libraries\n",
    "import pandas as pd\n",
    "from transformers import BertModel, BertTokenizer\n",
    "import torch\n",
    "from scipy.spatial.distance import cosine\n",
    "import numpy as np\n",
    "import re\n",
    "import json\n",
    "from nltk.tokenize import word_tokenize\n",
    "import spacy\n",
    "\n",
    "# Load spaCy model for English\n",
    "nlp = spacy.load('en_core_web_sm')\n",
    "\n",
    "# Initialize BERT model and tokenizer\n",
    "model = BertModel.from_pretrained('bert-base-uncased')\n",
    "tokenizer = BertTokenizer.from_pretrained('bert-base-uncased')\n",
    "\n",
    "# Function to generate embedding for a keyword, skipping stopwords\n",
    "def get_embedding(text):\n",
    "    # Tokenize text using spaCy\n",
    "    tokens = nlp(text)\n",
    "    \n",
    "    # Filter out stopwords and join tokens\n",
    "    content_words = [token.text for token in tokens if not token.is_stop]\n",
    "    filtered_text = \" \".join(content_words)\n",
    "    \n",
    "    # Tokenize filtered text with BERT tokenizer\n",
    "    inputs = tokenizer(filtered_text, return_tensors='pt')\n",
    "    \n",
    "    # Get BERT model outputs\n",
    "    outputs = model(**inputs)\n",
    "    \n",
    "    # Calculate mean of last hidden state to get embedding\n",
    "    embedding = outputs.last_hidden_state.mean(dim=1).flatten().detach().numpy()\n",
    "    return embedding\n",
    "\n",
    "# Function to calculate cosine similarity\n",
    "def cosine_distance(embedding1, embedding2):\n",
    "    return cosine(embedding1, embedding2)\n",
    "\n",
    "# Function to calculate Euclidean distance\n",
    "def euclidean_distance(embedding1, embedding2):\n",
    "    return np.linalg.norm(embedding1 - embedding2)\n",
    "\n",
    "# Function to generate similarity matrix for a list of keywords\n",
    "def get_distance_matrix(keywords, distance_metric=cosine_distance):\n",
    "    # Generate embeddings for each keyword\n",
    "    keyword_embeddings = {kw: get_embedding(kw) for kw in keywords}\n",
    "    \n",
    "    # Initialize the similarity matrix\n",
    "    similarity_matrix = [[0] * len(keywords) for _ in range(len(keywords))]\n",
    "    \n",
    "    # Calculate pairwise similarities\n",
    "    for i in range(len(keywords)):\n",
    "        for j in range(i + 1, len(keywords)):\n",
    "            sim_score = distance_metric(keyword_embeddings[keywords[i]], keyword_embeddings[keywords[j]])\n",
    "            similarity_matrix[i][j] = round(sim_score, 2)\n",
    "            similarity_matrix[j][i] = round(sim_score, 2)\n",
    "            \n",
    "    return similarity_matrix\n",
    "\n",
    "# Function to calculate sum of distances in upper triangle of a matrix\n",
    "def distances_sum(distance_matrix):\n",
    "    return float(np.sum(np.triu(distance_matrix)))\n",
    "\n",
    "# Function to lemmatize a word using spaCy\n",
    "def lemmatize_word(word):\n",
    "    doc = nlp(word)\n",
    "    return doc[0].lemma_\n",
    "\n",
    "# Lemmatize the extended abstract keywords\n",
    "extended_abstract_keywords = [\n",
    "    \"difference\", \"implementation\", \"better\", \"best\", \"efficient\", \n",
    "    \"general-purpose\", \"general purpose\", \"specific\", \"layered\", \"generate\", \n",
    "    \"permutations\", \"optimize\", \"language\", \"store\", \"lexicographic\", \n",
    "    \"comparison\", \"design\", \"efficiency\", \"complexity\", \"strategy\", \n",
    "    \"approach\", \"methodology\", \"performance\", \"technique\", \"pattern\", \n",
    "    \"structure\", \"framework\", \"model\", \"simulation\", \"behavior\", \n",
    "    \"heuristic\", \"optimization\", \"benchmark\", \"constraint\", \"trade-off\", \n",
    "    \"evaluation\", \"validation\", \"robust\", \"integration\", \"architecture\", \n",
    "    \"composition\", \"synthesis\", \"abstraction\", \"visualization\", \n",
    "    \"scalability\", \"anomaly\", \"extension\", \"solution\", \"problem-solving\", \n",
    "    \"innovation\", \"reliability\", \"flexibility\", \"adaptation\", \"modification\", \n",
    "    \"reconfiguration\", \"transformation\", \"emergent\", \"novelty\", \"complex\",\n",
    "    \"evolution\", \"iteration\"\n",
    "]\n",
    "\n",
    "extended_abstract_keywords_lemmatized = [lemmatize_word(word) for word in extended_abstract_keywords]\n",
    "\n",
    "# Function to analyze syntactic structure of a question\n",
    "def analyze_question_structure(question):\n",
    "    doc = nlp(question)\n",
    "    relations = []\n",
    "    for token in doc:\n",
    "        if token.dep_ in (\"nsubj\", \"dobj\", \"pobj\", \"attr\"):\n",
    "            relations.append((token.head.text, token.text))\n",
    "    return relations\n",
    "\n",
    "# Function to determine SOLO taxonomy level\n",
    "def get_solo_level(question, strong_threshold=0.18, weak_threshold=0.2325):\n",
    "    keywords = hybrid_model_predict(question)  # Assuming hybrid_model_predict() returns relevant keywords\n",
    "    \n",
    "    if not keywords:\n",
    "        return \"Pre-structural\"\n",
    "    \n",
    "    if len(keywords) == 1:\n",
    "        return \"Uni-structural\"\n",
    "    \n",
    "    distances = get_distance_matrix(keywords)\n",
    "    max_distance = np.max(distances)\n",
    "    avg_distance = distances_sum(distances) / len(keywords)\n",
    "    \n",
    "    # Analyze question structure to find relationships\n",
    "    relations = analyze_question_structure(question)\n",
    "    relation_keywords = [relation for relation in relations if (relation[0] in keywords and relation[1] in keywords)]\n",
    "    \n",
    "    if not relation_keywords:\n",
    "        if max_distance >= weak_threshold:\n",
    "            return 'Multi-structural'\n",
    "        \n",
    "        else:\n",
    "            question_embedding = get_embedding(question)\n",
    "            min_keyword_question_distance = min(\n",
    "                cosine(question_embedding, get_embedding(kw)) for kw in keywords\n",
    "            )\n",
    "            tokenized_question = [lemmatize_word(token.text) for token in nlp(question)]\n",
    "            for word in keywords:\n",
    "                if word in tokenized_question:\n",
    "                    for word in extended_abstract_keywords_lemmatized:\n",
    "                        if word in tokenized_question:\n",
    "                            return \"Extended Abstract\"\n",
    "                    return 'Uni-structural'\n",
    "                \n",
    "            if min_keyword_question_distance > 0.4:\n",
    "                return 'Pre-structural'\n",
    "            else:\n",
    "                \n",
    "                for word in extended_abstract_keywords_lemmatized:\n",
    "                    if word in tokenized_question:\n",
    "                        return \"Extended Abstract\"\n",
    "                return 'Uni-structural'\n",
    "    \n",
    "    if relation_keywords:\n",
    "        if avg_distance <= strong_threshold:\n",
    "            return \"Relational\"\n",
    "        \n",
    "        if max_distance <= strong_threshold:\n",
    "            return \"Extended Abstract\"\n",
    "        \n",
    "        return 'Relational'\n"
   ]
  },
  {
   "cell_type": "code",
   "execution_count": 183,
   "metadata": {},
   "outputs": [],
   "source": [
    "question = 'what is the difference between python\\'s list methods append and extend?'"
   ]
  },
  {
   "cell_type": "code",
   "execution_count": 184,
   "metadata": {},
   "outputs": [
    {
     "data": {
      "text/plain": [
       "['methods', 'extend', 'append', 'python', 'list']"
      ]
     },
     "execution_count": 184,
     "metadata": {},
     "output_type": "execute_result"
    }
   ],
   "source": [
    "keywords = hybrid_model_predict(question)\n",
    "keywords"
   ]
  },
  {
   "cell_type": "code",
   "execution_count": 185,
   "metadata": {},
   "outputs": [
    {
     "data": {
      "text/plain": [
       "'Multi-structural'"
      ]
     },
     "execution_count": 185,
     "metadata": {},
     "output_type": "execute_result"
    }
   ],
   "source": [
    "get_solo_level(question)"
   ]
  },
  {
   "cell_type": "code",
   "execution_count": 188,
   "metadata": {},
   "outputs": [
    {
     "data": {
      "text/html": [
       "<div>\n",
       "<style scoped>\n",
       "    .dataframe tbody tr th:only-of-type {\n",
       "        vertical-align: middle;\n",
       "    }\n",
       "\n",
       "    .dataframe tbody tr th {\n",
       "        vertical-align: top;\n",
       "    }\n",
       "\n",
       "    .dataframe thead th {\n",
       "        text-align: right;\n",
       "    }\n",
       "</style>\n",
       "<table border=\"1\" class=\"dataframe\">\n",
       "  <thead>\n",
       "    <tr style=\"text-align: right;\">\n",
       "      <th></th>\n",
       "      <th>title</th>\n",
       "      <th>predicted_tags</th>\n",
       "      <th>Distance Matrix</th>\n",
       "      <th>Sum_distances</th>\n",
       "      <th>solo class</th>\n",
       "    </tr>\n",
       "  </thead>\n",
       "  <tbody>\n",
       "    <tr>\n",
       "      <th>0</th>\n",
       "      <td>write/read to/from json a python dict that has a polars df for one or more keys</td>\n",
       "      <td>[algorithm, python, write, read, json, dict]</td>\n",
       "      <td>[[0, 0.17, 0.23, 0.2, 0.31, 0.27], [0.17, 0, 0.18, 0.2, 0.32, 0.28], [0.23, 0.18, 0, 0.11, 0.34, 0.31], [0.2, 0.2, 0.11, 0, 0.33, 0.25], [0.31, 0.32, 0.34, 0.33, 0, 0.38], [0.27, 0.28, 0.31, 0.25, 0.38, 0]]</td>\n",
       "      <td>3.88%</td>\n",
       "      <td>Relational</td>\n",
       "    </tr>\n",
       "    <tr>\n",
       "      <th>1</th>\n",
       "      <td>python: how to remove brackets and single-quotes from csvreader list?</td>\n",
       "      <td>[algorithm, python, remove, list]</td>\n",
       "      <td>[[0, 0.17, 0.16, 0.16], [0.17, 0, 0.16, 0.22], [0.16, 0.16, 0, 0.17], [0.16, 0.22, 0.17, 0]]</td>\n",
       "      <td>1.04%</td>\n",
       "      <td>Uni-structural</td>\n",
       "    </tr>\n",
       "    <tr>\n",
       "      <th>2</th>\n",
       "      <td>multi-line input in python with support of empty lines and check of \"\\n\" in the console</td>\n",
       "      <td>[algorithm, python, with]</td>\n",
       "      <td>[[0, 0.17, 0.38], [0.17, 0, 0.37], [0.38, 0.37, 0]]</td>\n",
       "      <td>0.92%</td>\n",
       "      <td>Multi-structural</td>\n",
       "    </tr>\n",
       "    <tr>\n",
       "      <th>3</th>\n",
       "      <td>streamlit - text color in menu</td>\n",
       "      <td>[algorithm]</td>\n",
       "      <td>[[0]]</td>\n",
       "      <td>0.00%</td>\n",
       "      <td>Uni-structural</td>\n",
       "    </tr>\n",
       "    <tr>\n",
       "      <th>4</th>\n",
       "      <td>nonetype is not subscriptable in linked list</td>\n",
       "      <td>[linked list, algorithm]</td>\n",
       "      <td>[[0, 0.31], [0.31, 0]]</td>\n",
       "      <td>0.31%</td>\n",
       "      <td>Multi-structural</td>\n",
       "    </tr>\n",
       "    <tr>\n",
       "      <th>5</th>\n",
       "      <td>linkedin image/video api upload 403 forbidden error</td>\n",
       "      <td>[algorithm, image]</td>\n",
       "      <td>[[0, 0.14], [0.14, 0]]</td>\n",
       "      <td>0.14%</td>\n",
       "      <td>Uni-structural</td>\n",
       "    </tr>\n",
       "    <tr>\n",
       "      <th>6</th>\n",
       "      <td>how to dynamically create class methods in python using decorators?</td>\n",
       "      <td>[algorithm, methods, python, class]</td>\n",
       "      <td>[[0, 0.12, 0.17, 0.2], [0.12, 0, 0.18, 0.18], [0.17, 0.18, 0, 0.23], [0.2, 0.18, 0.23, 0]]</td>\n",
       "      <td>1.08%</td>\n",
       "      <td>Uni-structural</td>\n",
       "    </tr>\n",
       "    <tr>\n",
       "      <th>7</th>\n",
       "      <td>module import error for python_pylint when using super-linter/super-linter@v6.7.0</td>\n",
       "      <td>[algorithm, module, import]</td>\n",
       "      <td>[[0, 0.14, 0.18], [0.14, 0, 0.14], [0.18, 0.14, 0]]</td>\n",
       "      <td>0.46%</td>\n",
       "      <td>Uni-structural</td>\n",
       "    </tr>\n",
       "    <tr>\n",
       "      <th>8</th>\n",
       "      <td>different basicblocks share the same object id in llvm</td>\n",
       "      <td>[algorithm]</td>\n",
       "      <td>[[0]]</td>\n",
       "      <td>0.00%</td>\n",
       "      <td>Uni-structural</td>\n",
       "    </tr>\n",
       "    <tr>\n",
       "      <th>9</th>\n",
       "      <td>cross-validation function returns \"unknown label type: (array([0.0, 1.0], dtype=object),)\"</td>\n",
       "      <td>[algorithm, function, returns, array]</td>\n",
       "      <td>[[0, 0.16, 0.21, 0.14], [0.16, 0, 0.18, 0.15], [0.21, 0.18, 0, 0.16], [0.14, 0.15, 0.16, 0]]</td>\n",
       "      <td>1.00%</td>\n",
       "      <td>Relational</td>\n",
       "    </tr>\n",
       "    <tr>\n",
       "      <th>10</th>\n",
       "      <td>why doesn't tree.write create my xml file?</td>\n",
       "      <td>[write, file, tree, xml]</td>\n",
       "      <td>[[0, 0.2, 0.27, 0.19], [0.2, 0, 0.22, 0.18], [0.27, 0.22, 0, 0.2], [0.19, 0.18, 0.2, 0]]</td>\n",
       "      <td>1.26%</td>\n",
       "      <td>Multi-structural</td>\n",
       "    </tr>\n",
       "    <tr>\n",
       "      <th>11</th>\n",
       "      <td>i am having a problem in my sand simulation</td>\n",
       "      <td>[algorithm]</td>\n",
       "      <td>[[0]]</td>\n",
       "      <td>0.00%</td>\n",
       "      <td>Uni-structural</td>\n",
       "    </tr>\n",
       "    <tr>\n",
       "      <th>12</th>\n",
       "      <td>deepl api fails to translate from turkish to ukrainian/russian</td>\n",
       "      <td>[algorithm]</td>\n",
       "      <td>[[0]]</td>\n",
       "      <td>0.00%</td>\n",
       "      <td>Uni-structural</td>\n",
       "    </tr>\n",
       "    <tr>\n",
       "      <th>13</th>\n",
       "      <td>pydantic type conversion on assignment</td>\n",
       "      <td>[algorithm]</td>\n",
       "      <td>[[0]]</td>\n",
       "      <td>0.00%</td>\n",
       "      <td>Uni-structural</td>\n",
       "    </tr>\n",
       "    <tr>\n",
       "      <th>14</th>\n",
       "      <td>trl sfttrainer clarification on truncation</td>\n",
       "      <td>[algorithm]</td>\n",
       "      <td>[[0]]</td>\n",
       "      <td>0.00%</td>\n",
       "      <td>Uni-structural</td>\n",
       "    </tr>\n",
       "    <tr>\n",
       "      <th>15</th>\n",
       "      <td>seleniumbase example failing cloudflare turnstile</td>\n",
       "      <td>[algorithm]</td>\n",
       "      <td>[[0]]</td>\n",
       "      <td>0.00%</td>\n",
       "      <td>Uni-structural</td>\n",
       "    </tr>\n",
       "    <tr>\n",
       "      <th>16</th>\n",
       "      <td>calculate distances in a shape with python</td>\n",
       "      <td>[algorithm, python, with]</td>\n",
       "      <td>[[0, 0.17, 0.38], [0.17, 0, 0.37], [0.38, 0.37, 0]]</td>\n",
       "      <td>0.92%</td>\n",
       "      <td>Relational</td>\n",
       "    </tr>\n",
       "    <tr>\n",
       "      <th>17</th>\n",
       "      <td>how to send a buffers between 2 gpu's?</td>\n",
       "      <td>[algorithm]</td>\n",
       "      <td>[[0]]</td>\n",
       "      <td>0.00%</td>\n",
       "      <td>Uni-structural</td>\n",
       "    </tr>\n",
       "    <tr>\n",
       "      <th>18</th>\n",
       "      <td>chatmemberhandler not working with new bot token</td>\n",
       "      <td>[algorithm, with]</td>\n",
       "      <td>[[0, 0.38], [0.38, 0]]</td>\n",
       "      <td>0.38%</td>\n",
       "      <td>Multi-structural</td>\n",
       "    </tr>\n",
       "    <tr>\n",
       "      <th>19</th>\n",
       "      <td>connection was closed by the remote host</td>\n",
       "      <td>[algorithm]</td>\n",
       "      <td>[[0]]</td>\n",
       "      <td>0.00%</td>\n",
       "      <td>Uni-structural</td>\n",
       "    </tr>\n",
       "  </tbody>\n",
       "</table>\n",
       "</div>"
      ],
      "text/plain": [
       "                                                                                         title  \\\n",
       "0              write/read to/from json a python dict that has a polars df for one or more keys   \n",
       "1                        python: how to remove brackets and single-quotes from csvreader list?   \n",
       "2      multi-line input in python with support of empty lines and check of \"\\n\" in the console   \n",
       "3                                                               streamlit - text color in menu   \n",
       "4                                                 nonetype is not subscriptable in linked list   \n",
       "5                                          linkedin image/video api upload 403 forbidden error   \n",
       "6                          how to dynamically create class methods in python using decorators?   \n",
       "7            module import error for python_pylint when using super-linter/super-linter@v6.7.0   \n",
       "8                                       different basicblocks share the same object id in llvm   \n",
       "9   cross-validation function returns \"unknown label type: (array([0.0, 1.0], dtype=object),)\"   \n",
       "10                                                  why doesn't tree.write create my xml file?   \n",
       "11                                                 i am having a problem in my sand simulation   \n",
       "12                              deepl api fails to translate from turkish to ukrainian/russian   \n",
       "13                                                      pydantic type conversion on assignment   \n",
       "14                                                  trl sfttrainer clarification on truncation   \n",
       "15                                           seleniumbase example failing cloudflare turnstile   \n",
       "16                                                  calculate distances in a shape with python   \n",
       "17                                                      how to send a buffers between 2 gpu's?   \n",
       "18                                            chatmemberhandler not working with new bot token   \n",
       "19                                                    connection was closed by the remote host   \n",
       "\n",
       "                                  predicted_tags  \\\n",
       "0   [algorithm, python, write, read, json, dict]   \n",
       "1              [algorithm, python, remove, list]   \n",
       "2                      [algorithm, python, with]   \n",
       "3                                    [algorithm]   \n",
       "4                       [linked list, algorithm]   \n",
       "5                             [algorithm, image]   \n",
       "6            [algorithm, methods, python, class]   \n",
       "7                    [algorithm, module, import]   \n",
       "8                                    [algorithm]   \n",
       "9          [algorithm, function, returns, array]   \n",
       "10                      [write, file, tree, xml]   \n",
       "11                                   [algorithm]   \n",
       "12                                   [algorithm]   \n",
       "13                                   [algorithm]   \n",
       "14                                   [algorithm]   \n",
       "15                                   [algorithm]   \n",
       "16                     [algorithm, python, with]   \n",
       "17                                   [algorithm]   \n",
       "18                             [algorithm, with]   \n",
       "19                                   [algorithm]   \n",
       "\n",
       "                                                                                                                                                                                                   Distance Matrix  \\\n",
       "0   [[0, 0.17, 0.23, 0.2, 0.31, 0.27], [0.17, 0, 0.18, 0.2, 0.32, 0.28], [0.23, 0.18, 0, 0.11, 0.34, 0.31], [0.2, 0.2, 0.11, 0, 0.33, 0.25], [0.31, 0.32, 0.34, 0.33, 0, 0.38], [0.27, 0.28, 0.31, 0.25, 0.38, 0]]   \n",
       "1                                                                                                                     [[0, 0.17, 0.16, 0.16], [0.17, 0, 0.16, 0.22], [0.16, 0.16, 0, 0.17], [0.16, 0.22, 0.17, 0]]   \n",
       "2                                                                                                                                                              [[0, 0.17, 0.38], [0.17, 0, 0.37], [0.38, 0.37, 0]]   \n",
       "3                                                                                                                                                                                                            [[0]]   \n",
       "4                                                                                                                                                                                           [[0, 0.31], [0.31, 0]]   \n",
       "5                                                                                                                                                                                           [[0, 0.14], [0.14, 0]]   \n",
       "6                                                                                                                       [[0, 0.12, 0.17, 0.2], [0.12, 0, 0.18, 0.18], [0.17, 0.18, 0, 0.23], [0.2, 0.18, 0.23, 0]]   \n",
       "7                                                                                                                                                              [[0, 0.14, 0.18], [0.14, 0, 0.14], [0.18, 0.14, 0]]   \n",
       "8                                                                                                                                                                                                            [[0]]   \n",
       "9                                                                                                                     [[0, 0.16, 0.21, 0.14], [0.16, 0, 0.18, 0.15], [0.21, 0.18, 0, 0.16], [0.14, 0.15, 0.16, 0]]   \n",
       "10                                                                                                                        [[0, 0.2, 0.27, 0.19], [0.2, 0, 0.22, 0.18], [0.27, 0.22, 0, 0.2], [0.19, 0.18, 0.2, 0]]   \n",
       "11                                                                                                                                                                                                           [[0]]   \n",
       "12                                                                                                                                                                                                           [[0]]   \n",
       "13                                                                                                                                                                                                           [[0]]   \n",
       "14                                                                                                                                                                                                           [[0]]   \n",
       "15                                                                                                                                                                                                           [[0]]   \n",
       "16                                                                                                                                                             [[0, 0.17, 0.38], [0.17, 0, 0.37], [0.38, 0.37, 0]]   \n",
       "17                                                                                                                                                                                                           [[0]]   \n",
       "18                                                                                                                                                                                          [[0, 0.38], [0.38, 0]]   \n",
       "19                                                                                                                                                                                                           [[0]]   \n",
       "\n",
       "    Sum_distances        solo class  \n",
       "0           3.88%        Relational  \n",
       "1           1.04%    Uni-structural  \n",
       "2           0.92%  Multi-structural  \n",
       "3           0.00%    Uni-structural  \n",
       "4           0.31%  Multi-structural  \n",
       "5           0.14%    Uni-structural  \n",
       "6           1.08%    Uni-structural  \n",
       "7           0.46%    Uni-structural  \n",
       "8           0.00%    Uni-structural  \n",
       "9           1.00%        Relational  \n",
       "10          1.26%  Multi-structural  \n",
       "11          0.00%    Uni-structural  \n",
       "12          0.00%    Uni-structural  \n",
       "13          0.00%    Uni-structural  \n",
       "14          0.00%    Uni-structural  \n",
       "15          0.00%    Uni-structural  \n",
       "16          0.92%        Relational  \n",
       "17          0.00%    Uni-structural  \n",
       "18          0.38%  Multi-structural  \n",
       "19          0.00%    Uni-structural  "
      ]
     },
     "execution_count": 188,
     "metadata": {},
     "output_type": "execute_result"
    }
   ],
   "source": [
    "sample_df = df[['title']].head(20)\n",
    "sample_df['predicted_tags'] = sample_df.title.apply(hybrid_model_predict)\n",
    "sample_df['Distance Matrix'] = sample_df['predicted_tags'].apply(get_distance_matrix)\n",
    "sample_df['Sum_distances'] = sample_df['Distance Matrix'].apply(distances_sum) \n",
    "sample_df['solo class'] = sample_df['title'].apply(get_solo_level)\n",
    "sample_df.head(20)"
   ]
  },
  {
   "cell_type": "code",
   "execution_count": 192,
   "metadata": {},
   "outputs": [
    {
     "name": "stderr",
     "output_type": "stream",
     "text": [
      "C:\\Users\\naren\\AppData\\Local\\Temp\\ipykernel_12972\\3927112521.py:2: SettingWithCopyWarning: \n",
      "A value is trying to be set on a copy of a slice from a DataFrame.\n",
      "Try using .loc[row_indexer,col_indexer] = value instead\n",
      "\n",
      "See the caveats in the documentation: https://pandas.pydata.org/pandas-docs/stable/user_guide/indexing.html#returning-a-view-versus-a-copy\n",
      "  sample_df['solo class'] = sample_df['title'].apply(get_solo_level)\n"
     ]
    }
   ],
   "source": [
    "sample_df = df.head(1000)\n",
    "sample_df['solo class'] = sample_df['title'].apply(get_solo_level)\n"
   ]
  },
  {
   "cell_type": "code",
   "execution_count": 197,
   "metadata": {},
   "outputs": [
    {
     "data": {
      "text/plain": [
       "solo class\n",
       "Uni-structural       578\n",
       "Multi-structural     276\n",
       "Relational            66\n",
       "Pre-structural        43\n",
       "Extended Abstract     37\n",
       "Name: count, dtype: int64"
      ]
     },
     "execution_count": 197,
     "metadata": {},
     "output_type": "execute_result"
    }
   ],
   "source": [
    "sample_df['solo class'].value_counts()"
   ]
  },
  {
   "cell_type": "code",
   "execution_count": 198,
   "metadata": {},
   "outputs": [
    {
     "name": "stderr",
     "output_type": "stream",
     "text": [
      "C:\\Users\\naren\\AppData\\Local\\Temp\\ipykernel_12972\\234418899.py:2: SettingWithCopyWarning: \n",
      "A value is trying to be set on a copy of a slice from a DataFrame.\n",
      "Try using .loc[row_indexer,col_indexer] = value instead\n",
      "\n",
      "See the caveats in the documentation: https://pandas.pydata.org/pandas-docs/stable/user_guide/indexing.html#returning-a-view-versus-a-copy\n",
      "  sample_df['solo class'] = sample_df['title'].apply(get_solo_level)\n"
     ]
    },
    {
     "data": {
      "text/plain": [
       "solo class\n",
       "Uni-structural       5728\n",
       "Multi-structural     2933\n",
       "Relational            543\n",
       "Pre-structural        466\n",
       "Extended Abstract     330\n",
       "Name: count, dtype: int64"
      ]
     },
     "execution_count": 198,
     "metadata": {},
     "output_type": "execute_result"
    }
   ],
   "source": [
    "sample_df = df.head(10000)\n",
    "sample_df['solo class'] = sample_df['title'].apply(get_solo_level)\n",
    "sample_df['solo class'].value_counts()\n"
   ]
  }
 ],
 "metadata": {
  "kernelspec": {
   "display_name": "base",
   "language": "python",
   "name": "python3"
  },
  "language_info": {
   "codemirror_mode": {
    "name": "ipython",
    "version": 3
   },
   "file_extension": ".py",
   "mimetype": "text/x-python",
   "name": "python",
   "nbconvert_exporter": "python",
   "pygments_lexer": "ipython3",
   "version": "3.8.19"
  }
 },
 "nbformat": 4,
 "nbformat_minor": 2
}
